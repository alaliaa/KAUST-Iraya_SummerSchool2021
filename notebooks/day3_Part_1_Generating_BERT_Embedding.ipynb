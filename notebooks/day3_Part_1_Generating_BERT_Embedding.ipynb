{
 "cells": [
  {
   "cell_type": "markdown",
   "metadata": {
    "id": "kHamuW4OjYuT"
   },
   "source": [
    "<img src=\"https://raw.githubusercontent.com/cebirnie92/KAUST-Iraya_SummerSchool2021/main/figures/logo.jpg\">"
   ]
  },
  {
   "cell_type": "markdown",
   "metadata": {
    "id": "e4XNBcQhLa5s"
   },
   "source": [
    "##**Day 3: Generating Embedding Vectors for Scientific Articles by BERT**\n",
    "\n",
    "This tutorial focuses on \n",
    "1. generating embedding vectors for scientific articles by BERT \n",
    "2. visualize the embedding vectors of articles in two dimensions \n",
    "3. apply a clustering method to group the articles into different groups/clusters based on the similarity/difference between the embedding vectors.\n",
    "\n",
    "\n",
    "We will play with 2044 articles in different fields, such as geoscience, biology, information system, and math. We have the article information including title, abstract, venue, and field. We aim to generate BERT embeddings of these articles such that the embedding vectors represent the articles by their content information. The vectors can be generated from the title of the articles, or from the combination of both title and abstract.\n",
    "\n",
    "\n",
    "Practically, this tutorial is split into four parts:\n",
    "\n",
    "1.   Applying text pre-processing to the titles to remove unnecessary words and symbols.\n",
    "2.   Generating BERT embeddings for  each article using DistilBERT version of BERT.\n",
    "3.   Visualizing BERT embeddings in 2-dim space by t-SNE to understand the overall distribution of the articles.\n",
    "4.   Clustering the articles into four groups representing the articles fields, based on k-means clustering algorithm.\n",
    "\n",
    "<img src=\"../figures/day3.png\">\n",
    "\n",
    "Please submit all results via https://docs.google.com/forms/d/e/1FAIpQLSdaLlUyztTJwu-it9EV77Fo8sPSK7FtWTjGB4S7gO5p6NlPFQ/viewform?usp=sf_link by 11:59pm GMT on 17 June 2021.\n"
   ]
  },
  {
   "cell_type": "markdown",
   "metadata": {
    "id": "SO8o8_-3_Msg"
   },
   "source": [
    "#**Notebook set-up**\n",
    "**Installing all the packages that we will need for this tutorial** "
   ]
  },
  {
   "cell_type": "code",
   "execution_count": null,
   "metadata": {
    "colab": {
     "base_uri": "https://localhost:8080/"
    },
    "id": "66dRTsKsU2xu",
    "outputId": "2533b87a-302f-4b2b-9460-e63550356152"
   },
   "outputs": [
    {
     "name": "stdout",
     "output_type": "stream",
     "text": [
      "Collecting transformers\n",
      "\u001b[?25l  Downloading https://files.pythonhosted.org/packages/d5/43/cfe4ee779bbd6a678ac6a97c5a5cdeb03c35f9eaebbb9720b036680f9a2d/transformers-4.6.1-py3-none-any.whl (2.2MB)\n",
      "\u001b[K     |████████████████████████████████| 2.3MB 4.1MB/s \n",
      "\u001b[?25hRequirement already satisfied: importlib-metadata; python_version < \"3.8\" in /usr/local/lib/python3.7/dist-packages (from transformers) (4.5.0)\n",
      "Requirement already satisfied: packaging in /usr/local/lib/python3.7/dist-packages (from transformers) (20.9)\n",
      "Collecting tokenizers<0.11,>=0.10.1\n",
      "\u001b[?25l  Downloading https://files.pythonhosted.org/packages/d4/e2/df3543e8ffdab68f5acc73f613de9c2b155ac47f162e725dcac87c521c11/tokenizers-0.10.3-cp37-cp37m-manylinux_2_5_x86_64.manylinux1_x86_64.manylinux_2_12_x86_64.manylinux2010_x86_64.whl (3.3MB)\n",
      "\u001b[K     |████████████████████████████████| 3.3MB 28.9MB/s \n",
      "\u001b[?25hCollecting huggingface-hub==0.0.8\n",
      "  Downloading https://files.pythonhosted.org/packages/a1/88/7b1e45720ecf59c6c6737ff332f41c955963090a18e72acbcbeac6b25e86/huggingface_hub-0.0.8-py3-none-any.whl\n",
      "Requirement already satisfied: filelock in /usr/local/lib/python3.7/dist-packages (from transformers) (3.0.12)\n",
      "Requirement already satisfied: regex!=2019.12.17 in /usr/local/lib/python3.7/dist-packages (from transformers) (2019.12.20)\n",
      "Collecting sacremoses\n",
      "\u001b[?25l  Downloading https://files.pythonhosted.org/packages/75/ee/67241dc87f266093c533a2d4d3d69438e57d7a90abb216fa076e7d475d4a/sacremoses-0.0.45-py3-none-any.whl (895kB)\n",
      "\u001b[K     |████████████████████████████████| 901kB 17.3MB/s \n",
      "\u001b[?25hRequirement already satisfied: tqdm>=4.27 in /usr/local/lib/python3.7/dist-packages (from transformers) (4.41.1)\n",
      "Requirement already satisfied: numpy>=1.17 in /usr/local/lib/python3.7/dist-packages (from transformers) (1.19.5)\n",
      "Requirement already satisfied: requests in /usr/local/lib/python3.7/dist-packages (from transformers) (2.23.0)\n",
      "Requirement already satisfied: zipp>=0.5 in /usr/local/lib/python3.7/dist-packages (from importlib-metadata; python_version < \"3.8\"->transformers) (3.4.1)\n",
      "Requirement already satisfied: typing-extensions>=3.6.4; python_version < \"3.8\" in /usr/local/lib/python3.7/dist-packages (from importlib-metadata; python_version < \"3.8\"->transformers) (3.7.4.3)\n",
      "Requirement already satisfied: pyparsing>=2.0.2 in /usr/local/lib/python3.7/dist-packages (from packaging->transformers) (2.4.7)\n",
      "Requirement already satisfied: click in /usr/local/lib/python3.7/dist-packages (from sacremoses->transformers) (7.1.2)\n",
      "Requirement already satisfied: six in /usr/local/lib/python3.7/dist-packages (from sacremoses->transformers) (1.15.0)\n",
      "Requirement already satisfied: joblib in /usr/local/lib/python3.7/dist-packages (from sacremoses->transformers) (1.0.1)\n",
      "Requirement already satisfied: certifi>=2017.4.17 in /usr/local/lib/python3.7/dist-packages (from requests->transformers) (2021.5.30)\n",
      "Requirement already satisfied: urllib3!=1.25.0,!=1.25.1,<1.26,>=1.21.1 in /usr/local/lib/python3.7/dist-packages (from requests->transformers) (1.24.3)\n",
      "Requirement already satisfied: chardet<4,>=3.0.2 in /usr/local/lib/python3.7/dist-packages (from requests->transformers) (3.0.4)\n",
      "Requirement already satisfied: idna<3,>=2.5 in /usr/local/lib/python3.7/dist-packages (from requests->transformers) (2.10)\n",
      "Installing collected packages: tokenizers, huggingface-hub, sacremoses, transformers\n",
      "Successfully installed huggingface-hub-0.0.8 sacremoses-0.0.45 tokenizers-0.10.3 transformers-4.6.1\n"
     ]
    }
   ],
   "source": [
    "!pip install transformers"
   ]
  },
  {
   "cell_type": "code",
   "execution_count": null,
   "metadata": {
    "colab": {
     "base_uri": "https://localhost:8080/"
    },
    "id": "TCiltWTOU9GZ",
    "outputId": "1cdec424-9b00-4b5a-f980-647e364ec84e"
   },
   "outputs": [
    {
     "name": "stdout",
     "output_type": "stream",
     "text": [
      "Requirement already satisfied: torch in /usr/local/lib/python3.7/dist-packages (1.8.1+cu101)\n",
      "Requirement already satisfied: numpy in /usr/local/lib/python3.7/dist-packages (from torch) (1.19.5)\n",
      "Requirement already satisfied: typing-extensions in /usr/local/lib/python3.7/dist-packages (from torch) (3.7.4.3)\n"
     ]
    }
   ],
   "source": [
    "!pip install torch"
   ]
  },
  {
   "cell_type": "markdown",
   "metadata": {
    "id": "wnAS3RMz_5x2"
   },
   "source": [
    "#**Loading Data**"
   ]
  },
  {
   "cell_type": "markdown",
   "metadata": {
    "id": "iZ6Dn1rs3veK"
   },
   "source": [
    "**Importing all required packages:**"
   ]
  },
  {
   "cell_type": "code",
   "execution_count": null,
   "metadata": {
    "id": "7xWLSNj6kEYc"
   },
   "outputs": [],
   "source": [
    "import os\n",
    "import requests\n",
    "import pandas as pd"
   ]
  },
  {
   "cell_type": "code",
   "execution_count": null,
   "metadata": {
    "colab": {
     "base_uri": "https://localhost:8080/"
    },
    "id": "ftEBysCycact",
    "outputId": "a7282932-9d0f-4ae1-eab2-7a02576f620e"
   },
   "outputs": [
    {
     "name": "stdout",
     "output_type": "stream",
     "text": [
      "Mounted at /content/drive\n"
     ]
    }
   ],
   "source": [
    "from google.colab import drive\n",
    "drive.mount('/content/drive')"
   ]
  },
  {
   "cell_type": "markdown",
   "metadata": {
    "id": "YKkrAX9AtZum"
   },
   "source": [
    "**Loading biology, math, and information system articles**"
   ]
  },
  {
   "cell_type": "code",
   "execution_count": null,
   "metadata": {
    "colab": {
     "base_uri": "https://localhost:8080/",
     "height": 419
    },
    "id": "WBDQBRTgvMgG",
    "outputId": "62853e0f-df6d-483c-bbf7-c9ffd24c7c38"
   },
   "outputs": [
    {
     "data": {
      "text/html": [
       "<div>\n",
       "<style scoped>\n",
       "    .dataframe tbody tr th:only-of-type {\n",
       "        vertical-align: middle;\n",
       "    }\n",
       "\n",
       "    .dataframe tbody tr th {\n",
       "        vertical-align: top;\n",
       "    }\n",
       "\n",
       "    .dataframe thead th {\n",
       "        text-align: right;\n",
       "    }\n",
       "</style>\n",
       "<table border=\"1\" class=\"dataframe\">\n",
       "  <thead>\n",
       "    <tr style=\"text-align: right;\">\n",
       "      <th></th>\n",
       "      <th>id</th>\n",
       "      <th>title</th>\n",
       "      <th>venue</th>\n",
       "      <th>abstract</th>\n",
       "      <th>feild</th>\n",
       "    </tr>\n",
       "  </thead>\n",
       "  <tbody>\n",
       "    <tr>\n",
       "      <th>0</th>\n",
       "      <td>519</td>\n",
       "      <td>Improving the performance of hierarchical clas...</td>\n",
       "      <td>Evolutionary Computation, Machine Learning and...</td>\n",
       "      <td>In this paper we propose a new method to impr...</td>\n",
       "      <td>biology</td>\n",
       "    </tr>\n",
       "    <tr>\n",
       "      <th>1</th>\n",
       "      <td>520</td>\n",
       "      <td>Semantic Predications for Complex Information ...</td>\n",
       "      <td>Bioinformatics and Biomedicine</td>\n",
       "      <td>Many complex information needs that arise in b...</td>\n",
       "      <td>biology</td>\n",
       "    </tr>\n",
       "    <tr>\n",
       "      <th>2</th>\n",
       "      <td>521</td>\n",
       "      <td>A collaborative filtering approach to assess i...</td>\n",
       "      <td>International Conference on Bioinformatics</td>\n",
       "      <td>! §  Comorbidity refers to the phenomenon th...</td>\n",
       "      <td>biology</td>\n",
       "    </tr>\n",
       "    <tr>\n",
       "      <th>3</th>\n",
       "      <td>522</td>\n",
       "      <td>Faster Algorithms for Optimal Multiple Sequenc...</td>\n",
       "      <td>IEEE/ACM Transactions on Computational Biology...</td>\n",
       "      <td>Multiple Sequence Alignment (MSA) is one of th...</td>\n",
       "      <td>biology</td>\n",
       "    </tr>\n",
       "    <tr>\n",
       "      <th>4</th>\n",
       "      <td>523</td>\n",
       "      <td>Predicting Thermophilic Nucleotide Sequences B...</td>\n",
       "      <td>International Conference on Bioinformatics and...</td>\n",
       "      <td>Knowledge of thermophilic mechanisms about som...</td>\n",
       "      <td>biology</td>\n",
       "    </tr>\n",
       "    <tr>\n",
       "      <th>...</th>\n",
       "      <td>...</td>\n",
       "      <td>...</td>\n",
       "      <td>...</td>\n",
       "      <td>...</td>\n",
       "      <td>...</td>\n",
       "    </tr>\n",
       "    <tr>\n",
       "      <th>1539</th>\n",
       "      <td>2058</td>\n",
       "      <td>An Operator-Stream-Based Scheduling Engine for...</td>\n",
       "      <td>Advances in Databases and Information Systems</td>\n",
       "      <td>Since a decade, the database community researc...</td>\n",
       "      <td>information system</td>\n",
       "    </tr>\n",
       "    <tr>\n",
       "      <th>1540</th>\n",
       "      <td>2059</td>\n",
       "      <td>When the Wait Isn’t So Bad: The Interacting Ef...</td>\n",
       "      <td>Information Systems Research</td>\n",
       "      <td>Awhen moving from one page to another. This e...</td>\n",
       "      <td>information system</td>\n",
       "    </tr>\n",
       "    <tr>\n",
       "      <th>1541</th>\n",
       "      <td>2060</td>\n",
       "      <td>The analysis and management of non-canonical r...</td>\n",
       "      <td>Knowledge and Information Systems</td>\n",
       "      <td>Non-canonical requirement specifications refer...</td>\n",
       "      <td>information system</td>\n",
       "    </tr>\n",
       "    <tr>\n",
       "      <th>1542</th>\n",
       "      <td>2061</td>\n",
       "      <td>Robustness, stability, recoverability, and rel...</td>\n",
       "      <td>Knowledge and Information Systems</td>\n",
       "      <td>Many real-world problems in Artificial Intelli...</td>\n",
       "      <td>information system</td>\n",
       "    </tr>\n",
       "    <tr>\n",
       "      <th>1543</th>\n",
       "      <td>2062</td>\n",
       "      <td>The Productivity of Information Technology Inv...</td>\n",
       "      <td>Information Systems Research</td>\n",
       "      <td>Publication details, including instructions f...</td>\n",
       "      <td>information system</td>\n",
       "    </tr>\n",
       "  </tbody>\n",
       "</table>\n",
       "<p>1544 rows × 5 columns</p>\n",
       "</div>"
      ],
      "text/plain": [
       "        id  ...               feild\n",
       "0      519  ...             biology\n",
       "1      520  ...             biology\n",
       "2      521  ...             biology\n",
       "3      522  ...             biology\n",
       "4      523  ...             biology\n",
       "...    ...  ...                 ...\n",
       "1539  2058  ...  information system\n",
       "1540  2059  ...  information system\n",
       "1541  2060  ...  information system\n",
       "1542  2061  ...  information system\n",
       "1543  2062  ...  information system\n",
       "\n",
       "[1544 rows x 5 columns]"
      ]
     },
     "execution_count": 5,
     "metadata": {
      "tags": []
     },
     "output_type": "execute_result"
    }
   ],
   "source": [
    "# Data directory\n",
    "#data_dir = \"../data/\"\n",
    "data_dir = '/content/drive/MyDrive/'  # Uncomment if running on CoLab\n",
    "\n",
    "# Load vectors \n",
    "path = os.path.join(data_dir, 'articles_df.csv')\n",
    "data_df = pd.read_csv(path, sep=\",\", error_bad_lines=False)\n",
    "data_df"
   ]
  },
  {
   "cell_type": "markdown",
   "metadata": {
    "id": "v1bqcj_0tK2i"
   },
   "source": [
    "**Loading geoscience articles**"
   ]
  },
  {
   "cell_type": "code",
   "execution_count": null,
   "metadata": {
    "colab": {
     "base_uri": "https://localhost:8080/"
    },
    "id": "bU-ZuvLDj2kq",
    "outputId": "aa4cfc62-342b-4326-a48e-e9718d44570b"
   },
   "outputs": [
    {
     "name": "stdout",
     "output_type": "stream",
     "text": [
      "page: 1\n",
      "page: 2\n",
      "page: 3\n",
      "page: 4\n",
      "page: 5\n",
      "page: 6\n",
      "page: 7\n",
      "page: 8\n",
      "page: 9\n",
      "page: 10\n",
      "page: 11\n"
     ]
    }
   ],
   "source": [
    "# setup credentials\n",
    "token = 'Token %s'%('$TOKEN') # copy-paste token\n",
    "#token = 'Token %s'% os.environ['IRAYATOKEN']\n",
    "\n",
    "geo_data = []\n",
    "pages = range(1,12)\n",
    "for p in pages:\n",
    "    print('page: %u'%p)\n",
    "    headers = {\"Content-type\": \"application/json\", \n",
    "               \"Authorization\": token}\n",
    "    \n",
    "    # fetch data - with page number: we have 11 pages in total\n",
    "    r = requests.get(\"https://demo.atelier.irayaenergies.ai/data-tracker/extracted-info?page=%i\"%p, headers=headers)\n",
    "    data = r.json()\n",
    "    data[\"data\"][0]\n",
    "    geo_data.append(data[\"data\"])\n",
    "    \n",
    "geo_data = [item for sublist in geo_data for item in sublist]"
   ]
  },
  {
   "cell_type": "code",
   "execution_count": null,
   "metadata": {
    "colab": {
     "base_uri": "https://localhost:8080/"
    },
    "id": "ydH2Lp58mvfL",
    "outputId": "6ee180dc-d6e9-4c4c-f174-a6992d6c71a6"
   },
   "outputs": [
    {
     "data": {
      "text/plain": [
       "{'attributes': {'bbox': {},\n",
       "  'classification': 'text',\n",
       "  'created_at': '2021-06-07T23:13:52.459347',\n",
       "  'doc_text': 'The phase and group velocity surfaces are essential for wave propagation in anisotropic media. These surfaces have certain features that, especially, for shear waves result in complications for modelling and inversion of recorded wavefields. To analyse wave propagation in an anisotropic model, it is important to identify these features in both the phase and group domains. We propose few characteristics for this analysis: the energy flux angle, decomposed in the polar and azimuth angle correction angles and enhancement factor, which is able to characterize both singularity points and triplication zones. The very simple equation that controls the triplications is derived in the phase domain. The proposed characteristics are illustrated for elastic and acoustic anisotropic models of different symmetry classes.',\n",
       "  'doc_text_translated': None,\n",
       "  'is_cli': False,\n",
       "  'other_tags': None,\n",
       "  'page_num': 1,\n",
       "  'par_num': 1,\n",
       "  'remarks': {'CONFERENCE_LOCATION': 'N/A',\n",
       "   'CONFERENCE_NAME': 'N/A',\n",
       "   'TITLE': 'Geometrical characteristics of phase and group velocity surfaces in anisotropic media'},\n",
       "  'translations': {},\n",
       "  'updated_at': '2021-06-07T23:13:52.459356'},\n",
       " 'id': '5360133c-6f45-4e2e-afd0-ea60723db0a3',\n",
       " 'relationships': {'file': {'data': {'id': '751545cd-a6ef-4043-80b7-f73fd93efbdb',\n",
       "    'type': 'Files'}},\n",
       "  'pdf_file': {'data': None}},\n",
       " 'type': 'Extracted_Info'}"
      ]
     },
     "execution_count": 7,
     "metadata": {
      "tags": []
     },
     "output_type": "execute_result"
    }
   ],
   "source": [
    "geo_data[0]"
   ]
  },
  {
   "cell_type": "code",
   "execution_count": null,
   "metadata": {
    "colab": {
     "base_uri": "https://localhost:8080/",
     "height": 589
    },
    "id": "2CHk4HyHkoU2",
    "outputId": "0bfb5535-42b0-47e9-911b-318840d75dcf"
   },
   "outputs": [
    {
     "data": {
      "text/html": [
       "<div>\n",
       "<style scoped>\n",
       "    .dataframe tbody tr th:only-of-type {\n",
       "        vertical-align: middle;\n",
       "    }\n",
       "\n",
       "    .dataframe tbody tr th {\n",
       "        vertical-align: top;\n",
       "    }\n",
       "\n",
       "    .dataframe thead th {\n",
       "        text-align: right;\n",
       "    }\n",
       "</style>\n",
       "<table border=\"1\" class=\"dataframe\">\n",
       "  <thead>\n",
       "    <tr style=\"text-align: right;\">\n",
       "      <th></th>\n",
       "      <th>id</th>\n",
       "      <th>title</th>\n",
       "      <th>venue</th>\n",
       "      <th>abstract</th>\n",
       "      <th>feild</th>\n",
       "    </tr>\n",
       "  </thead>\n",
       "  <tbody>\n",
       "    <tr>\n",
       "      <th>0</th>\n",
       "      <td>5360133c-6f45-4e2e-afd0-ea60723db0a3</td>\n",
       "      <td>Geometrical characteristics of phase and group...</td>\n",
       "      <td>N/A</td>\n",
       "      <td>The phase and group velocity surfaces are esse...</td>\n",
       "      <td>geoscience</td>\n",
       "    </tr>\n",
       "    <tr>\n",
       "      <th>1</th>\n",
       "      <td>ed9f7bf2-0d84-4f35-a5d2-5d5435369c42</td>\n",
       "      <td>Optimized experimental design for seismic full...</td>\n",
       "      <td>N/A</td>\n",
       "      <td>Optimized experimental design aims at reducing...</td>\n",
       "      <td>geoscience</td>\n",
       "    </tr>\n",
       "    <tr>\n",
       "      <th>2</th>\n",
       "      <td>e7983b59-7b98-474b-8441-e55d621e4d6b</td>\n",
       "      <td>Analysis of Near-Shore Investigation Data for ...</td>\n",
       "      <td>3rd Asia Pacific Meeting on Near Surface Geosc...</td>\n",
       "      <td>No Summary.</td>\n",
       "      <td>geoscience</td>\n",
       "    </tr>\n",
       "    <tr>\n",
       "      <th>3</th>\n",
       "      <td>d447dc5e-0e04-4bfb-b8f4-1e73a898551a</td>\n",
       "      <td>Landslide Investigation using Borehole and Mul...</td>\n",
       "      <td>3rd Asia Pacific Meeting on Near Surface Geosc...</td>\n",
       "      <td>This paper presents results of a landslide inv...</td>\n",
       "      <td>geoscience</td>\n",
       "    </tr>\n",
       "    <tr>\n",
       "      <th>4</th>\n",
       "      <td>c8723574-d472-481b-ab45-0619cdc75c5b</td>\n",
       "      <td>Demarcation of Safety Zones for Development at...</td>\n",
       "      <td>3rd Asia Pacific Meeting on Near Surface Geosc...</td>\n",
       "      <td>Development project at hilly area include the ...</td>\n",
       "      <td>geoscience</td>\n",
       "    </tr>\n",
       "    <tr>\n",
       "      <th>...</th>\n",
       "      <td>...</td>\n",
       "      <td>...</td>\n",
       "      <td>...</td>\n",
       "      <td>...</td>\n",
       "      <td>...</td>\n",
       "    </tr>\n",
       "    <tr>\n",
       "      <th>495</th>\n",
       "      <td>bff8f50b-1d07-44bd-891b-bb87eb723166</td>\n",
       "      <td>Common Opening Angle Migration/Inversion by Su...</td>\n",
       "      <td>8th International Congress of the Brazilian Ge...</td>\n",
       "      <td>We show that the technique of migration/invers...</td>\n",
       "      <td>geoscience</td>\n",
       "    </tr>\n",
       "    <tr>\n",
       "      <th>496</th>\n",
       "      <td>c2282ee2-5318-4d6a-a56f-e10a07e6b57c</td>\n",
       "      <td>In situ observation of electron temperature en...</td>\n",
       "      <td>8th International Congress of the Brazilian Ge...</td>\n",
       "      <td>In-situ measurements of the height variation o...</td>\n",
       "      <td>geoscience</td>\n",
       "    </tr>\n",
       "    <tr>\n",
       "      <th>497</th>\n",
       "      <td>9bd1fe6e-5b6a-4dbe-85e8-70fc20263553</td>\n",
       "      <td>3D Seismic Volume Rendering</td>\n",
       "      <td>8th International Congress of the Brazilian Ge...</td>\n",
       "      <td>Volume Visualization has become a very useful ...</td>\n",
       "      <td>geoscience</td>\n",
       "    </tr>\n",
       "    <tr>\n",
       "      <th>498</th>\n",
       "      <td>6e028742-db24-47e9-9d3d-36da92c55dfe</td>\n",
       "      <td>Numerical Moveout Estimation for Migration Vel...</td>\n",
       "      <td>12th International Congress of the Brazilian G...</td>\n",
       "      <td>In migration velocity analysis (MVA), the resi...</td>\n",
       "      <td>geoscience</td>\n",
       "    </tr>\n",
       "    <tr>\n",
       "      <th>499</th>\n",
       "      <td>e293c462-fda6-4864-95d9-431b641a482d</td>\n",
       "      <td>Application of Image Processing Techniques and...</td>\n",
       "      <td>6th International Congress of the Brazilian Ge...</td>\n",
       "      <td>Several aeromagnetometric surveys have been ca...</td>\n",
       "      <td>geoscience</td>\n",
       "    </tr>\n",
       "  </tbody>\n",
       "</table>\n",
       "<p>500 rows × 5 columns</p>\n",
       "</div>"
      ],
      "text/plain": [
       "                                       id  ...       feild\n",
       "0    5360133c-6f45-4e2e-afd0-ea60723db0a3  ...  geoscience\n",
       "1    ed9f7bf2-0d84-4f35-a5d2-5d5435369c42  ...  geoscience\n",
       "2    e7983b59-7b98-474b-8441-e55d621e4d6b  ...  geoscience\n",
       "3    d447dc5e-0e04-4bfb-b8f4-1e73a898551a  ...  geoscience\n",
       "4    c8723574-d472-481b-ab45-0619cdc75c5b  ...  geoscience\n",
       "..                                    ...  ...         ...\n",
       "495  bff8f50b-1d07-44bd-891b-bb87eb723166  ...  geoscience\n",
       "496  c2282ee2-5318-4d6a-a56f-e10a07e6b57c  ...  geoscience\n",
       "497  9bd1fe6e-5b6a-4dbe-85e8-70fc20263553  ...  geoscience\n",
       "498  6e028742-db24-47e9-9d3d-36da92c55dfe  ...  geoscience\n",
       "499  e293c462-fda6-4864-95d9-431b641a482d  ...  geoscience\n",
       "\n",
       "[500 rows x 5 columns]"
      ]
     },
     "execution_count": 8,
     "metadata": {
      "tags": []
     },
     "output_type": "execute_result"
    }
   ],
   "source": [
    "# create data frame for geo data that have id, title, venue, abstract\n",
    "geo_document = pd.DataFrame(geo_data)\n",
    "df1= geo_document[['id']]\n",
    "\n",
    "other_col= geo_document['attributes'].tolist()\n",
    "df = pd.DataFrame(other_col)\n",
    "df2= df[['doc_text']]\n",
    "\n",
    "other_col= df['remarks'].tolist()\n",
    "df3 = pd.DataFrame(other_col)\n",
    "df3= df3[['TITLE', 'CONFERENCE_NAME']]\n",
    "\n",
    "geo_df = pd.concat([df1, df2, df3], axis=1)\n",
    "geo_df= geo_df[['id', 'TITLE', 'CONFERENCE_NAME', 'doc_text']]\n",
    "#change the column name\n",
    "geo_df = geo_df.rename(columns = { 'TITLE': 'title', 'CONFERENCE_NAME':'venue', 'doc_text':'abstract'}, inplace = False)\n",
    "geo_df['feild']='geoscience'\n",
    "geo_df= geo_df[:500]\n",
    "geo_df"
   ]
  },
  {
   "cell_type": "markdown",
   "metadata": {
    "id": "erPkboOs4ZYs"
   },
   "source": [
    "**Combining all articles togather**"
   ]
  },
  {
   "cell_type": "code",
   "execution_count": null,
   "metadata": {
    "colab": {
     "base_uri": "https://localhost:8080/",
     "height": 589
    },
    "id": "6KmCrvz4r1ay",
    "outputId": "367f7986-b91f-42da-94af-f6500b2f6559"
   },
   "outputs": [
    {
     "data": {
      "text/html": [
       "<div>\n",
       "<style scoped>\n",
       "    .dataframe tbody tr th:only-of-type {\n",
       "        vertical-align: middle;\n",
       "    }\n",
       "\n",
       "    .dataframe tbody tr th {\n",
       "        vertical-align: top;\n",
       "    }\n",
       "\n",
       "    .dataframe thead th {\n",
       "        text-align: right;\n",
       "    }\n",
       "</style>\n",
       "<table border=\"1\" class=\"dataframe\">\n",
       "  <thead>\n",
       "    <tr style=\"text-align: right;\">\n",
       "      <th></th>\n",
       "      <th>id</th>\n",
       "      <th>title</th>\n",
       "      <th>venue</th>\n",
       "      <th>abstract</th>\n",
       "      <th>feild</th>\n",
       "    </tr>\n",
       "  </thead>\n",
       "  <tbody>\n",
       "    <tr>\n",
       "      <th>0</th>\n",
       "      <td>519</td>\n",
       "      <td>Improving the performance of hierarchical clas...</td>\n",
       "      <td>Evolutionary Computation, Machine Learning and...</td>\n",
       "      <td>In this paper we propose a new method to impr...</td>\n",
       "      <td>biology</td>\n",
       "    </tr>\n",
       "    <tr>\n",
       "      <th>1</th>\n",
       "      <td>520</td>\n",
       "      <td>Semantic Predications for Complex Information ...</td>\n",
       "      <td>Bioinformatics and Biomedicine</td>\n",
       "      <td>Many complex information needs that arise in b...</td>\n",
       "      <td>biology</td>\n",
       "    </tr>\n",
       "    <tr>\n",
       "      <th>2</th>\n",
       "      <td>521</td>\n",
       "      <td>A collaborative filtering approach to assess i...</td>\n",
       "      <td>International Conference on Bioinformatics</td>\n",
       "      <td>! §  Comorbidity refers to the phenomenon th...</td>\n",
       "      <td>biology</td>\n",
       "    </tr>\n",
       "    <tr>\n",
       "      <th>3</th>\n",
       "      <td>522</td>\n",
       "      <td>Faster Algorithms for Optimal Multiple Sequenc...</td>\n",
       "      <td>IEEE/ACM Transactions on Computational Biology...</td>\n",
       "      <td>Multiple Sequence Alignment (MSA) is one of th...</td>\n",
       "      <td>biology</td>\n",
       "    </tr>\n",
       "    <tr>\n",
       "      <th>4</th>\n",
       "      <td>523</td>\n",
       "      <td>Predicting Thermophilic Nucleotide Sequences B...</td>\n",
       "      <td>International Conference on Bioinformatics and...</td>\n",
       "      <td>Knowledge of thermophilic mechanisms about som...</td>\n",
       "      <td>biology</td>\n",
       "    </tr>\n",
       "    <tr>\n",
       "      <th>...</th>\n",
       "      <td>...</td>\n",
       "      <td>...</td>\n",
       "      <td>...</td>\n",
       "      <td>...</td>\n",
       "      <td>...</td>\n",
       "    </tr>\n",
       "    <tr>\n",
       "      <th>2039</th>\n",
       "      <td>bff8f50b-1d07-44bd-891b-bb87eb723166</td>\n",
       "      <td>Common Opening Angle Migration/Inversion by Su...</td>\n",
       "      <td>8th International Congress of the Brazilian Ge...</td>\n",
       "      <td>We show that the technique of migration/invers...</td>\n",
       "      <td>geoscience</td>\n",
       "    </tr>\n",
       "    <tr>\n",
       "      <th>2040</th>\n",
       "      <td>c2282ee2-5318-4d6a-a56f-e10a07e6b57c</td>\n",
       "      <td>In situ observation of electron temperature en...</td>\n",
       "      <td>8th International Congress of the Brazilian Ge...</td>\n",
       "      <td>In-situ measurements of the height variation o...</td>\n",
       "      <td>geoscience</td>\n",
       "    </tr>\n",
       "    <tr>\n",
       "      <th>2041</th>\n",
       "      <td>9bd1fe6e-5b6a-4dbe-85e8-70fc20263553</td>\n",
       "      <td>3D Seismic Volume Rendering</td>\n",
       "      <td>8th International Congress of the Brazilian Ge...</td>\n",
       "      <td>Volume Visualization has become a very useful ...</td>\n",
       "      <td>geoscience</td>\n",
       "    </tr>\n",
       "    <tr>\n",
       "      <th>2042</th>\n",
       "      <td>6e028742-db24-47e9-9d3d-36da92c55dfe</td>\n",
       "      <td>Numerical Moveout Estimation for Migration Vel...</td>\n",
       "      <td>12th International Congress of the Brazilian G...</td>\n",
       "      <td>In migration velocity analysis (MVA), the resi...</td>\n",
       "      <td>geoscience</td>\n",
       "    </tr>\n",
       "    <tr>\n",
       "      <th>2043</th>\n",
       "      <td>e293c462-fda6-4864-95d9-431b641a482d</td>\n",
       "      <td>Application of Image Processing Techniques and...</td>\n",
       "      <td>6th International Congress of the Brazilian Ge...</td>\n",
       "      <td>Several aeromagnetometric surveys have been ca...</td>\n",
       "      <td>geoscience</td>\n",
       "    </tr>\n",
       "  </tbody>\n",
       "</table>\n",
       "<p>2044 rows × 5 columns</p>\n",
       "</div>"
      ],
      "text/plain": [
       "                                        id  ...       feild\n",
       "0                                      519  ...     biology\n",
       "1                                      520  ...     biology\n",
       "2                                      521  ...     biology\n",
       "3                                      522  ...     biology\n",
       "4                                      523  ...     biology\n",
       "...                                    ...  ...         ...\n",
       "2039  bff8f50b-1d07-44bd-891b-bb87eb723166  ...  geoscience\n",
       "2040  c2282ee2-5318-4d6a-a56f-e10a07e6b57c  ...  geoscience\n",
       "2041  9bd1fe6e-5b6a-4dbe-85e8-70fc20263553  ...  geoscience\n",
       "2042  6e028742-db24-47e9-9d3d-36da92c55dfe  ...  geoscience\n",
       "2043  e293c462-fda6-4864-95d9-431b641a482d  ...  geoscience\n",
       "\n",
       "[2044 rows x 5 columns]"
      ]
     },
     "execution_count": 9,
     "metadata": {
      "tags": []
     },
     "output_type": "execute_result"
    }
   ],
   "source": [
    "frames = [data_df, geo_df]\n",
    "data= pd.concat(frames, axis=0, ignore_index=True)\n",
    "data"
   ]
  },
  {
   "cell_type": "markdown",
   "metadata": {
    "id": "NweC3KPQOWB_"
   },
   "source": [
    "# **Text Pre-processing**"
   ]
  },
  {
   "cell_type": "markdown",
   "metadata": {
    "id": "9_noROyw93SS"
   },
   "source": [
    "**Importing all required packages:**"
   ]
  },
  {
   "cell_type": "code",
   "execution_count": null,
   "metadata": {
    "colab": {
     "base_uri": "https://localhost:8080/"
    },
    "id": "Kd6wBWGw96bc",
    "outputId": "a0df75ca-afcf-4213-b1e8-993797c1c526"
   },
   "outputs": [
    {
     "name": "stdout",
     "output_type": "stream",
     "text": [
      "[nltk_data] Downloading package punkt to /root/nltk_data...\n",
      "[nltk_data]   Unzipping tokenizers/punkt.zip.\n"
     ]
    }
   ],
   "source": [
    "import nltk\n",
    "nltk.download('punkt')\n",
    "\n",
    "import string\n",
    "import re\n",
    "from nltk.tokenize import word_tokenize"
   ]
  },
  {
   "cell_type": "markdown",
   "metadata": {
    "id": "QFXkYFRsDN8W"
   },
   "source": [
    "**Here we load English stopwords and punctuations to determine them in the text and remove them.**"
   ]
  },
  {
   "cell_type": "code",
   "execution_count": null,
   "metadata": {
    "colab": {
     "base_uri": "https://localhost:8080/"
    },
    "id": "XvfznxMhOu0q",
    "outputId": "93c68fab-5607-4bed-a47b-85448b136259"
   },
   "outputs": [
    {
     "name": "stdout",
     "output_type": "stream",
     "text": [
      "[nltk_data] Downloading package stopwords to /root/nltk_data...\n",
      "[nltk_data]   Unzipping corpora/stopwords.zip.\n",
      "/?)_>|{*^},\"@-'(]&`;:=#[!$\\~+.<%\n"
     ]
    }
   ],
   "source": [
    "#Stopwords\n",
    "nltk.download('stopwords')\n",
    "en_stopwords = set(nltk.corpus.stopwords.words('english'))\n",
    "\n",
    "#punctuation\n",
    "english_punctuations = string.punctuation\n",
    "punc_to_remove = ''.join(set(english_punctuations))\n",
    "print(punc_to_remove)"
   ]
  },
  {
   "cell_type": "markdown",
   "metadata": {
    "id": "zAecrg8jDmoj"
   },
   "source": [
    "**The following function 'pre_process(text)' removes numbers, punctuations, and stopwords from the input strings.**"
   ]
  },
  {
   "cell_type": "code",
   "execution_count": null,
   "metadata": {
    "id": "DpqByWuDPD7b"
   },
   "outputs": [],
   "source": [
    "def pre_process(text):\n",
    "    \n",
    "    text = re.sub(r'\\d+(\\.\\d+)?', ' number ', text)  # replace numbers by special token\n",
    "    for p in punc_to_remove: text = text.replace(p, ' ')  # remove punctuations\n",
    "    \n",
    "    #Removing stopwords\n",
    "    text_tokens = word_tokenize(text)\n",
    "    tokens_without_sw = [word for word in text_tokens if not word in en_stopwords]\n",
    "    filtered_sentence = (\" \").join(tokens_without_sw)\n",
    "    text= filtered_sentence\n",
    "    return text\n"
   ]
  },
  {
   "cell_type": "markdown",
   "metadata": {
    "id": "VMjFMqMjUE-1"
   },
   "source": [
    "**Applying text pre-processing to the titles**"
   ]
  },
  {
   "cell_type": "code",
   "execution_count": null,
   "metadata": {
    "id": "zKViDPcqPM-g"
   },
   "outputs": [],
   "source": [
    "#befor processing \n",
    "prev_title = data['title'].tolist()\n",
    "\n",
    "#Applaying text pre-processing\n",
    "data['title'] = data['title'].apply(lambda x:pre_process(x))\n",
    "\n",
    "#after processing \n",
    "after_title = data['title'].tolist()"
   ]
  },
  {
   "cell_type": "code",
   "execution_count": null,
   "metadata": {
    "colab": {
     "base_uri": "https://localhost:8080/"
    },
    "id": "TyrBqbtNucta",
    "outputId": "ecbbbc7d-e2cc-4572-da94-bb45bc96ec9a"
   },
   "outputs": [
    {
     "name": "stdout",
     "output_type": "stream",
     "text": [
      "Pathological Image Analysis Using the GPU: Stroma Classification for Neuroblastoma\n",
      "Pathological Image Analysis Using GPU Stroma Classification Neuroblastoma\n"
     ]
    }
   ],
   "source": [
    "#to show before and after \n",
    "print(prev_title[10])\n",
    "print(after_title[10])"
   ]
  },
  {
   "cell_type": "markdown",
   "metadata": {
    "id": "vnvTAdW8LhU0"
   },
   "source": [
    "# **Generating BERT Embedding**"
   ]
  },
  {
   "cell_type": "markdown",
   "metadata": {
    "id": "GDmvtH2b9VpX"
   },
   "source": [
    "The details of using BERT model can be found at  [this tutorial](https://colab.research.google.com/github/jalammar/jalammar.github.io/blob/master/notebooks/bert/A_Visual_Notebook_to_Using_BERT_for_the_First_Time.ipynb#scrollTo=ddAqbkoU6PP9)"
   ]
  },
  {
   "cell_type": "markdown",
   "metadata": {
    "id": "lZjkgmmvDiur"
   },
   "source": [
    "**Import all required packages:**"
   ]
  },
  {
   "cell_type": "code",
   "execution_count": null,
   "metadata": {
    "id": "1MMaQc0bLjcq"
   },
   "outputs": [],
   "source": [
    "import numpy as np\n",
    "import pandas as pd\n",
    "from sklearn.model_selection import train_test_split\n",
    "from sklearn.linear_model import LogisticRegression\n",
    "from sklearn.model_selection import GridSearchCV\n",
    "from sklearn.model_selection import cross_val_score\n",
    "import torch\n",
    "import transformers as ppb\n",
    "import warnings\n",
    "warnings.filterwarnings('ignore')"
   ]
  },
  {
   "cell_type": "markdown",
   "metadata": {
    "id": "uUQTj2owD038"
   },
   "source": [
    "**DistilBERT**\n",
    "\n",
    "\n",
    "We use here DistilBERT, which is a lighter version of BERT developed and open sourced by the team at HuggingFace. It’s a lighter and faster version of BERT that roughly matches its performance.\n",
    "\n",
    "We will first use the trained distilBERT to generate  embedding vectors for 2,044 articles (using the title sentence in the first setting), where the embeddings length is 768.\n",
    "\n",
    "<img src=\"https://jalammar.github.io/images/distilBERT/bert-distilbert-tutorial-sentence-embedding.png\" />\n",
    "\n",
    "The above figure is from: https://colab.research.google.com/github/jalammar/jalammar.github.io/blob/master/notebooks/bert/A_Visual_Notebook_to_Using_BERT_for_the_First_Time.ipynb#scrollTo=ddAqbkoU6PP9"
   ]
  },
  {
   "cell_type": "code",
   "execution_count": null,
   "metadata": {
    "colab": {
     "base_uri": "https://localhost:8080/",
     "height": 333,
     "referenced_widgets": [
      "5df16c55232546059d49eba207348616",
      "12e9e230a6df416aa30c843be2d3a2c4",
      "e06cad43cf014aab8ce42c89506c7ad8",
      "5fcb754f0ff84d268403249de8d84b10",
      "6fc77f1588ae41b688fd65ad2ab19306",
      "325f95fba25d4cbda9d038ece2120205",
      "b29ac5ad401c4886ac51134d6b1f2c10",
      "a745dee930d24282924ff0923ffc7572",
      "fa7a597a284c42ecb0aa25eb508a453b",
      "ad0749867138481786191bd094e09ff6",
      "83a384a26e454676bced61c44f1c34a2",
      "776a0c04142d42aead4fbdc19beafb5a",
      "0b14e2a553744a098b13b89b09e8ab21",
      "ed72e2e0f4164140846af954aaeb9c84",
      "70b73d22cf3a45519e21f1e3d242517e",
      "661d4e567da84730b24d22c7469ec237",
      "c71f527e81ca498b8ebd63d57234b5f7",
      "60cf6e106e794c579ce726cf99072e81",
      "b6d093c5a1f64cd28a857e1a8b96cc47",
      "1ec18babbb21402cb67ec7c05496f784",
      "d1d09df2809d47bf92ec6f7b90273d42",
      "4d15432023ea4166bd832c3452d66293",
      "3775c65b0f734f78ab51ac9a99f51a78",
      "64e411cf523543029539442260574ab8",
      "d649a6d356964ab9a3e6021bf8bf154f",
      "fb543c06869042798970555bc95cbb8e",
      "5be16671b10c47f0a214ed857fc740ad",
      "669d736e331c44129763720aea0c88c9",
      "ccab676f948f4b37884e02577d71ea5b",
      "6d0a9a27896d49939b37820491c77a0c",
      "af8595c8eed24e69b64a2fbb69e89ad2",
      "606a9e56243e4ba6a7e9a9f93545e337",
      "7066689843c040fdb807c6a211890d0e",
      "eb08c4a80ae04bdd8ba3a44cb9ac668e",
      "728f190dba6d454b9fffd3a21a406fc7",
      "5266e15a2e25484aac8a707168e6172f",
      "31f49e2386884d31b95652ae501340c1",
      "787a3f100ee449c48e9e5daa11ee36f4",
      "8cc7a52acd374a93941dd6eb063f997c",
      "bf38019f19d34c5d9cca8f076b95ecb7"
     ]
    },
    "id": "ws9sYoQlVx5N",
    "outputId": "5088c5bf-200c-4c59-ffe8-7315436de6cb"
   },
   "outputs": [
    {
     "data": {
      "application/vnd.jupyter.widget-view+json": {
       "model_id": "5df16c55232546059d49eba207348616",
       "version_major": 2,
       "version_minor": 0
      },
      "text/plain": [
       "HBox(children=(FloatProgress(value=0.0, description='Downloading', max=231508.0, style=ProgressStyle(descripti…"
      ]
     },
     "metadata": {
      "tags": []
     },
     "output_type": "display_data"
    },
    {
     "name": "stdout",
     "output_type": "stream",
     "text": [
      "\n"
     ]
    },
    {
     "data": {
      "application/vnd.jupyter.widget-view+json": {
       "model_id": "fa7a597a284c42ecb0aa25eb508a453b",
       "version_major": 2,
       "version_minor": 0
      },
      "text/plain": [
       "HBox(children=(FloatProgress(value=0.0, description='Downloading', max=28.0, style=ProgressStyle(description_w…"
      ]
     },
     "metadata": {
      "tags": []
     },
     "output_type": "display_data"
    },
    {
     "name": "stdout",
     "output_type": "stream",
     "text": [
      "\n"
     ]
    },
    {
     "data": {
      "application/vnd.jupyter.widget-view+json": {
       "model_id": "c71f527e81ca498b8ebd63d57234b5f7",
       "version_major": 2,
       "version_minor": 0
      },
      "text/plain": [
       "HBox(children=(FloatProgress(value=0.0, description='Downloading', max=466062.0, style=ProgressStyle(descripti…"
      ]
     },
     "metadata": {
      "tags": []
     },
     "output_type": "display_data"
    },
    {
     "name": "stdout",
     "output_type": "stream",
     "text": [
      "\n"
     ]
    },
    {
     "data": {
      "application/vnd.jupyter.widget-view+json": {
       "model_id": "d649a6d356964ab9a3e6021bf8bf154f",
       "version_major": 2,
       "version_minor": 0
      },
      "text/plain": [
       "HBox(children=(FloatProgress(value=0.0, description='Downloading', max=442.0, style=ProgressStyle(description_…"
      ]
     },
     "metadata": {
      "tags": []
     },
     "output_type": "display_data"
    },
    {
     "name": "stdout",
     "output_type": "stream",
     "text": [
      "\n"
     ]
    },
    {
     "data": {
      "application/vnd.jupyter.widget-view+json": {
       "model_id": "7066689843c040fdb807c6a211890d0e",
       "version_major": 2,
       "version_minor": 0
      },
      "text/plain": [
       "HBox(children=(FloatProgress(value=0.0, description='Downloading', max=267967963.0, style=ProgressStyle(descri…"
      ]
     },
     "metadata": {
      "tags": []
     },
     "output_type": "display_data"
    },
    {
     "name": "stdout",
     "output_type": "stream",
     "text": [
      "\n"
     ]
    },
    {
     "name": "stderr",
     "output_type": "stream",
     "text": [
      "Some weights of the model checkpoint at distilbert-base-uncased were not used when initializing DistilBertModel: ['vocab_layer_norm.weight', 'vocab_projector.weight', 'vocab_projector.bias', 'vocab_transform.bias', 'vocab_layer_norm.bias', 'vocab_transform.weight']\n",
      "- This IS expected if you are initializing DistilBertModel from the checkpoint of a model trained on another task or with another architecture (e.g. initializing a BertForSequenceClassification model from a BertForPreTraining model).\n",
      "- This IS NOT expected if you are initializing DistilBertModel from the checkpoint of a model that you expect to be exactly identical (initializing a BertForSequenceClassification model from a BertForSequenceClassification model).\n"
     ]
    }
   ],
   "source": [
    "# # For DistilBERT:\n",
    "model_class, tokenizer_class, pretrained_weights = (ppb.DistilBertModel, ppb.DistilBertTokenizer, 'distilbert-base-uncased')\n",
    "\n",
    "# Want BERT instead of distilBERT? Uncomment the following line:\n",
    "#model_class, tokenizer_class, pretrained_weights = (ppb.BertModel, ppb.BertTokenizer, 'bert-base-uncased')\n",
    "\n",
    "# Load pretrained model/tokenizer\n",
    "tokenizer = tokenizer_class.from_pretrained(pretrained_weights)\n",
    "model = model_class.from_pretrained(pretrained_weights)"
   ]
  },
  {
   "cell_type": "markdown",
   "metadata": {
    "id": "e71FgLyxE2pw"
   },
   "source": [
    "### **Tokenization**\n",
    "\n",
    "Our first step is to tokenize the sentences -- break them up into word and subwords in the format BERT is comfortable with.\n",
    "\n",
    "<img src=\"https://jalammar.github.io/images/distilBERT/bert-distilbert-tokenization-2-token-ids.png\" />\n",
    "\n",
    "The above figure is from: https://colab.research.google.com/github/jalammar/jalammar.github.io/blob/master/notebooks/bert/A_Visual_Notebook_to_Using_BERT_for_the_First_Time.ipynb#scrollTo=ddAqbkoU6PP9"
   ]
  },
  {
   "cell_type": "code",
   "execution_count": null,
   "metadata": {
    "colab": {
     "base_uri": "https://localhost:8080/"
    },
    "id": "EJyDkqZtWMUV",
    "outputId": "fdbdf14b-a9f8-431c-f7a3-9a225de5d22a"
   },
   "outputs": [
    {
     "data": {
      "text/plain": [
       "0        [101, 9229, 2836, 25835, 5579, 21708, 4454, 102]\n",
       "1       [101, 21641, 3653, 25027, 2015, 3375, 2592, 37...\n",
       "2       [101, 1037, 12317, 22910, 3921, 14358, 3265, 4...\n",
       "3       [101, 5514, 13792, 15502, 3674, 5537, 12139, 2...\n",
       "4       [101, 29458, 1996, 10867, 7361, 19466, 2594, 1...\n",
       "                              ...                        \n",
       "2039    [101, 2691, 3098, 6466, 9230, 28527, 7680, 286...\n",
       "2040    [101, 1999, 26179, 8089, 10496, 4860, 22415, 2...\n",
       "2041           [101, 2193, 1040, 22630, 3872, 14259, 102]\n",
       "2042    [101, 15973, 2693, 5833, 24155, 9230, 10146, 4...\n",
       "2043    [101, 4646, 3746, 6364, 5461, 2093, 8789, 1164...\n",
       "Name: title, Length: 2044, dtype: object"
      ]
     },
     "execution_count": 17,
     "metadata": {
      "tags": []
     },
     "output_type": "execute_result"
    }
   ],
   "source": [
    "#Tokenization\n",
    "tokenized = data['title'].apply((lambda x: tokenizer.encode(x, add_special_tokens=True)))\n",
    "tokenized"
   ]
  },
  {
   "cell_type": "markdown",
   "metadata": {
    "id": "jtKFTFogFAy7"
   },
   "source": [
    "### **Padding**\n",
    "After tokenization, `tokenized` is composed of a list of sentences -- each sentences is represented as a list of tokens. Since we want to use BERT to process our examples all at once (as one batch) for efficiency reason, we pad all lists to the same size. Thus we can represent the input as one 2-d array, rather than a list of lists (of different lengths)."
   ]
  },
  {
   "cell_type": "code",
   "execution_count": null,
   "metadata": {
    "colab": {
     "base_uri": "https://localhost:8080/"
    },
    "id": "x6bOoplVV83O",
    "outputId": "24740fc5-93cf-4833-a32f-3feaf4eeb8fa"
   },
   "outputs": [
    {
     "data": {
      "text/plain": [
       "(2044, 45)"
      ]
     },
     "execution_count": 18,
     "metadata": {
      "tags": []
     },
     "output_type": "execute_result"
    }
   ],
   "source": [
    "#Padding\n",
    "max_len = 0\n",
    "for i in tokenized.values:\n",
    "    if len(i) > max_len:\n",
    "        max_len = len(i)\n",
    "\n",
    "padded = np.array([i + [0]*(max_len-len(i)) for i in tokenized.values])\n",
    "\n",
    "#just if the text= tittle + abstract\n",
    "padded= np.array([list(x[:512]) for x in padded])\n",
    "\n",
    "np.array(padded).shape"
   ]
  },
  {
   "cell_type": "markdown",
   "metadata": {
    "id": "cIFxtDdcFSaS"
   },
   "source": [
    "Our dataset is now in the `padded` variable, we can view its dimensions below:\n"
   ]
  },
  {
   "cell_type": "code",
   "execution_count": null,
   "metadata": {
    "colab": {
     "base_uri": "https://localhost:8080/"
    },
    "id": "gQEdpGUZWW4o",
    "outputId": "71f3e891-5334-4d67-a605-10dcba299179"
   },
   "outputs": [
    {
     "data": {
      "text/plain": [
       "array([[  101,  9229,  2836, ...,     0,     0,     0],\n",
       "       [  101, 21641,  3653, ...,     0,     0,     0],\n",
       "       [  101,  1037, 12317, ...,     0,     0,     0],\n",
       "       ...,\n",
       "       [  101,  2193,  1040, ...,     0,     0,     0],\n",
       "       [  101, 15973,  2693, ...,     0,     0,     0],\n",
       "       [  101,  4646,  3746, ...,     0,     0,     0]])"
      ]
     },
     "execution_count": 19,
     "metadata": {
      "tags": []
     },
     "output_type": "execute_result"
    }
   ],
   "source": [
    "padded"
   ]
  },
  {
   "cell_type": "markdown",
   "metadata": {
    "id": "UqqDIfeTFUDY"
   },
   "source": [
    "### **Masking**\n",
    "To inform BERT the   `padded` elements in the arrary, we create another variable  attention_mask:"
   ]
  },
  {
   "cell_type": "code",
   "execution_count": null,
   "metadata": {
    "colab": {
     "base_uri": "https://localhost:8080/"
    },
    "id": "Te-tP5l2Wbz_",
    "outputId": "96b9abce-9fca-440d-a7ef-6dfa6bba6b54"
   },
   "outputs": [
    {
     "data": {
      "text/plain": [
       "(2044, 45)"
      ]
     },
     "execution_count": 20,
     "metadata": {
      "tags": []
     },
     "output_type": "execute_result"
    }
   ],
   "source": [
    "#Masking\n",
    "attention_mask = np.where(padded != 0, 1, 0)\n",
    "attention_mask.shape"
   ]
  },
  {
   "cell_type": "code",
   "execution_count": null,
   "metadata": {
    "colab": {
     "base_uri": "https://localhost:8080/"
    },
    "id": "kdnIysHmWjEM",
    "outputId": "b0cca708-c6b4-4440-ea2d-7d4459e09b64"
   },
   "outputs": [
    {
     "data": {
      "text/plain": [
       "array([[1, 1, 1, ..., 0, 0, 0],\n",
       "       [1, 1, 1, ..., 0, 0, 0],\n",
       "       [1, 1, 1, ..., 0, 0, 0],\n",
       "       ...,\n",
       "       [1, 1, 1, ..., 0, 0, 0],\n",
       "       [1, 1, 1, ..., 0, 0, 0],\n",
       "       [1, 1, 1, ..., 0, 0, 0]])"
      ]
     },
     "execution_count": 21,
     "metadata": {
      "tags": []
     },
     "output_type": "execute_result"
    }
   ],
   "source": [
    "attention_mask"
   ]
  },
  {
   "cell_type": "markdown",
   "metadata": {
    "id": "ET7hPCz1FjS9"
   },
   "source": [
    "### **And Now, Deep Learning!**\n",
    "Now that we have our model and inputs ready. Let's run our model!\n",
    "\n",
    "The `model()` function runs our sentences through BERT. The results of the processing will be returned into `last_hidden_states`.\n"
   ]
  },
  {
   "cell_type": "code",
   "execution_count": null,
   "metadata": {
    "id": "bM8rS5hRWm44"
   },
   "outputs": [],
   "source": [
    "input_ids = torch.tensor(padded)  \n",
    "attention_mask = torch.tensor(attention_mask)\n",
    "\n",
    "with torch.no_grad():\n",
    "    last_hidden_states = model(input_ids, attention_mask=attention_mask)"
   ]
  },
  {
   "cell_type": "markdown",
   "metadata": {
    "id": "oem3wqeIFzNE"
   },
   "source": [
    "Let's slice only the part of the output that we need. That is the output corresponding the first token of each sentence. The way BERT does sentence classification, is that it adds a token called [CLS] (for classification) at the beginning of every sentence. The output corresponding to that token can be thought of as an embedding for the entire sentence.\n",
    "\n",
    "\n",
    "<img src=\"https://jalammar.github.io/images/distilBERT/bert-output-tensor-selection.png\" />\n",
    "\n",
    "The above figure is from: https://colab.research.google.com/github/jalammar/jalammar.github.io/blob/master/notebooks/bert/A_Visual_Notebook_to_Using_BERT_for_the_First_Time.ipynb#scrollTo=ddAqbkoU6PP9\n",
    "\n",
    "We'll save those in the `features` variable, as they'll be used as feature representations for the down stream tasks, such as classification and clustering. "
   ]
  },
  {
   "cell_type": "code",
   "execution_count": null,
   "metadata": {
    "colab": {
     "base_uri": "https://localhost:8080/"
    },
    "id": "0pPcO8fEWsY4",
    "outputId": "aaba6215-8e2c-4772-e25e-05c980e55da8"
   },
   "outputs": [
    {
     "data": {
      "text/plain": [
       "(2044, 768)"
      ]
     },
     "execution_count": 23,
     "metadata": {
      "tags": []
     },
     "output_type": "execute_result"
    }
   ],
   "source": [
    "#text embedding:\n",
    "\n",
    "features = last_hidden_states[0][:,0,:].numpy()\n",
    "features.shape"
   ]
  },
  {
   "cell_type": "markdown",
   "metadata": {
    "id": "Zk9jFRQPW2-Y"
   },
   "source": [
    "# **t-SNE Visualization of BERT Embeddings**"
   ]
  },
  {
   "cell_type": "markdown",
   "metadata": {
    "id": "g175IpITFusg"
   },
   "source": [
    "To visualize the embeddings in 2-dimension, we need to transform the vectors from 768-dimension to 2-dimension. This process is called \"Dimensionality Reduction\". There are many ways to do that, one of the most popular ways is by using t-SNE.\n",
    "\n",
    "\n",
    "t-Distributed Stochastic Neighbor Embedding (t-SNE) is a non-linear technique for dimensionality reduction that is particularly well suited for the visualization of high-dimensional datasets."
   ]
  },
  {
   "cell_type": "markdown",
   "metadata": {
    "id": "UE6ZBs3qFQBc"
   },
   "source": [
    "**Import all required packages:**"
   ]
  },
  {
   "cell_type": "code",
   "execution_count": null,
   "metadata": {
    "id": "1TPzsqgoXNA5"
   },
   "outputs": [],
   "source": [
    "from sklearn.manifold import TSNE\n",
    "import numpy as np\n",
    "import matplotlib.pyplot as plt\n",
    "%matplotlib inline\n",
    "\n"
   ]
  },
  {
   "cell_type": "code",
   "execution_count": null,
   "metadata": {
    "id": "zWRZRCL5W16X"
   },
   "outputs": [],
   "source": [
    "\n",
    "#Get t-SNE Representation\n",
    "features_2d = TSNE(n_components=2).fit_transform(features)"
   ]
  },
  {
   "cell_type": "markdown",
   "metadata": {
    "id": "93_S3paTIj7v"
   },
   "source": [
    "**Since we have the representation of the embeddings in 2-dimension, we can now plot them.**"
   ]
  },
  {
   "cell_type": "code",
   "execution_count": null,
   "metadata": {
    "colab": {
     "base_uri": "https://localhost:8080/",
     "height": 483
    },
    "id": "_vhaZRHYW_bS",
    "outputId": "d081005c-c5e0-4d0b-c357-f0856936f58a"
   },
   "outputs": [
    {
     "data": {
      "image/png": "[encoded data removed]",
      "text/plain": [
       "<Figure size 720x576 with 1 Axes>"
      ]
     },
     "metadata": {
      "needs_background": "light",
      "tags": []
     },
     "output_type": "display_data"
    }
   ],
   "source": [
    "\n",
    "FS = (10, 8)\n",
    "fig, ax = plt.subplots(figsize=FS)\n",
    "# Make points translucent so we can visually identify regions with a high density of overlapping points\n",
    "ax.scatter(features_2d[:, 0], features_2d[:, 1], alpha=.7);\n"
   ]
  },
  {
   "cell_type": "markdown",
   "metadata": {
    "id": "FH07Xx8WI4bL"
   },
   "source": [
    "**We can also plot the embeddings and show their corresponding fields**"
   ]
  },
  {
   "cell_type": "code",
   "execution_count": null,
   "metadata": {
    "id": "ZzduUqRMXILb"
   },
   "outputs": [],
   "source": [
    "#This function to plot the embeddings with thier corresponding feilds\n",
    "def plot_tSNE(labels_encoded,x):\n",
    "    plt.figure(figsize=(10,10))\n",
    "    for cl in sorted(set(labels_encoded)):\n",
    "        indices = np.where(labels_encoded==cl)\n",
    "        indices = indices[0]\n",
    "        plt.scatter(x[indices,0], x[indices, 1], label=cl)\n",
    "\n",
    "    plt.legend()\n",
    "    plt.show()\n",
    "    \n",
    "\n"
   ]
  },
  {
   "cell_type": "code",
   "execution_count": null,
   "metadata": {
    "colab": {
     "base_uri": "https://localhost:8080/",
     "height": 592
    },
    "id": "XxUQf9RGLMx1",
    "outputId": "971d9808-2cea-4bb1-a3ae-debf84f73f58"
   },
   "outputs": [
    {
     "data": {
      "image/png": "[encoded data removed]",
      "text/plain": [
       "<Figure size 720x720 with 1 Axes>"
      ]
     },
     "metadata": {
      "needs_background": "light",
      "tags": []
     },
     "output_type": "display_data"
    }
   ],
   "source": [
    "actual_field = np.array(data['feild'].tolist() )\n",
    "plot_tSNE(actual_field, features_2d)"
   ]
  },
  {
   "cell_type": "markdown",
   "metadata": {
    "id": "gpPJ2tdLJ4p4"
   },
   "source": [
    "#**Applying Clustering to BERT Embeddings**\n",
    "\n",
    "**Clustering** is the task of dividing the data samples into several groups such that the samples in the same groups are more similar to other than those in other groups.\n",
    "\n",
    "\n",
    "**K-means clustering algorithm** partition n observations into k clusters where each observation belongs to the cluster with the nearest mean serving as a prototype of the cluster.\n",
    "\n",
    "\n",
    "In this part, we use the K-means clustering algorithm to assign different embeddings to different groups/clusters (we can determine the number of these clusters). Here we make the number of clusters equal to the number of the fields in the data to know the ability of the clustering algorithm to realize the similarity of the embeddings belonged to the same fields.\n",
    "\n"
   ]
  },
  {
   "cell_type": "markdown",
   "metadata": {
    "id": "pt4VM3JdKKo8"
   },
   "source": [
    "**Import all required packages:**"
   ]
  },
  {
   "cell_type": "code",
   "execution_count": null,
   "metadata": {
    "id": "fTyLmEMQKUsb"
   },
   "outputs": [],
   "source": [
    "import pandas as pd\n",
    "import numpy as np\n",
    "import matplotlib.pyplot as plt\n",
    "from sklearn.cluster import KMeans\n",
    "%matplotlib inline"
   ]
  },
  {
   "cell_type": "markdown",
   "metadata": {
    "id": "b0EB9-2qDiUT"
   },
   "source": [
    "**Here we initialize k-means algorithm with proper hyperparameters, then fit it to the data, and predict cluster for each sample in the data**"
   ]
  },
  {
   "cell_type": "code",
   "execution_count": null,
   "metadata": {
    "id": "dv7uVKmrKcJd"
   },
   "outputs": [],
   "source": [
    "X= features\n",
    "id = data['id'].tolist()\n",
    "\n",
    "\n",
    "#initialize with proper hyperparameters \n",
    "kmeans = KMeans(\n",
    "    n_clusters=4, init='k-means++',\n",
    "    n_init=10, max_iter=500, \n",
    "    tol=1e-04, random_state=None\n",
    ")\n",
    "\n",
    "#fit k-means algorithm to the data\n",
    "kmeans.fit(X)\n",
    "\n",
    "#predict cluster of the data samples\n",
    "pred_y = kmeans.predict(X)\n"
   ]
  },
  {
   "cell_type": "markdown",
   "metadata": {
    "id": "s1S1yLuOEKjx"
   },
   "source": [
    "### **Clustering Evaluation**\n",
    "\n",
    "There are many evaluation metrics  for clustering. Here we use [NMI score](https://scikit-learn.org/stable/modules/generated/sklearn.metrics.normalized_mutual_info_score.html), purity score, and show the [confusion matrix](https://scikit-learn.org/stable/modules/generated/sklearn.metrics.confusion_matrix.html) "
   ]
  },
  {
   "cell_type": "markdown",
   "metadata": {
    "id": "FRgEBWf9F-dV"
   },
   "source": [
    "**Importing required packages:**"
   ]
  },
  {
   "cell_type": "code",
   "execution_count": null,
   "metadata": {
    "id": "ZW8vHFcCGEKT"
   },
   "outputs": [],
   "source": [
    "from sklearn.metrics.cluster import normalized_mutual_info_score\n",
    "import numpy as np\n",
    "from sklearn import metrics\n",
    "from sklearn.metrics import confusion_matrix\n"
   ]
  },
  {
   "cell_type": "markdown",
   "metadata": {
    "id": "LfDxJRq9FpmJ"
   },
   "source": [
    "**Firstly, we need that each cluster reflects its actual field, we do that by making each clustering index equal to the majority of the fields belonged to it.**"
   ]
  },
  {
   "cell_type": "code",
   "execution_count": null,
   "metadata": {
    "id": "9y9mXyh7vGym"
   },
   "outputs": [],
   "source": [
    "#Calculating majority\n",
    "def most_frequent(List):\n",
    "    return max(set(List), key = List.count)"
   ]
  },
  {
   "cell_type": "code",
   "execution_count": null,
   "metadata": {
    "id": "Ia-2UwB8FsII"
   },
   "outputs": [],
   "source": [
    "# Determine the indices of samples that belongs to each predicted cluster\n",
    "index_list= []\n",
    "for k in set(pred_y):\n",
    "  index=[]\n",
    "  for i in range(len(pred_y)):\n",
    "    if pred_y[i]==k:\n",
    "      index.append(i)\n",
    "  index_list.append(index)\n",
    "\n",
    "#The actual field for each indices list\n",
    "True_y_list=[]\n",
    "for k in index_list:\n",
    "  true=[]\n",
    "  for i in k:\n",
    "    true.append(actual_field[i])\n",
    "  True_y_list.append(true)\n",
    "\n",
    "#Find the majority of actual field for each predicted cluster\n",
    "majority=[]\n",
    "for k in True_y_list:\n",
    "   majority.append (most_frequent(k))"
   ]
  },
  {
   "cell_type": "code",
   "execution_count": null,
   "metadata": {
    "colab": {
     "base_uri": "https://localhost:8080/"
    },
    "id": "A8VASN0YgTHp",
    "outputId": "90159405-e44c-4592-b2bc-6dfbfb47bde0"
   },
   "outputs": [
    {
     "data": {
      "text/plain": [
       "['math', 'geoscience', 'biology', 'information system']"
      ]
     },
     "execution_count": 34,
     "metadata": {
      "tags": []
     },
     "output_type": "execute_result"
    }
   ],
   "source": [
    "majority"
   ]
  },
  {
   "cell_type": "code",
   "execution_count": null,
   "metadata": {
    "id": "4YZ3id1hgfL6"
   },
   "outputs": [],
   "source": [
    "#Map predicted clusters (pred_y values) to the majority field in each class\n",
    "pred_field = []\n",
    "for i in range(len(pred_y)):\n",
    "      if pred_y[i]==0:\n",
    "          pred_field.append(majority[0])\n",
    "      elif pred_y[i]==1:\n",
    "          pred_field.append(majority[1])\n",
    "      elif pred_y[i]==2:\n",
    "          pred_field.append(majority[2])\n",
    "      elif pred_y[i]==3:\n",
    "          pred_field.append(majority[3])\n",
    "  \n",
    "pred_field= np.array(pred_field)   \n",
    "    "
   ]
  },
  {
   "cell_type": "markdown",
   "metadata": {
    "id": "Ib8T0kUhD5mf"
   },
   "source": [
    "**Visualizing the embedding with their corresponding predicted clusters**"
   ]
  },
  {
   "cell_type": "code",
   "execution_count": null,
   "metadata": {
    "colab": {
     "base_uri": "https://localhost:8080/",
     "height": 592
    },
    "id": "iVVy7aFEZmIC",
    "outputId": "750e90dc-6d8d-438f-e75c-f380d0add6bb"
   },
   "outputs": [
    {
     "data": {
      "image/png": "[encoded data removed]",
      "text/plain": [
       "<Figure size 720x720 with 1 Axes>"
      ]
     },
     "metadata": {
      "needs_background": "light",
      "tags": []
     },
     "output_type": "display_data"
    }
   ],
   "source": [
    "plot_tSNE(pred_field, features_2d)"
   ]
  },
  {
   "cell_type": "markdown",
   "metadata": {
    "id": "sM-XKAdgGrUM"
   },
   "source": [
    "**NMI score:**"
   ]
  },
  {
   "cell_type": "code",
   "execution_count": null,
   "metadata": {
    "colab": {
     "base_uri": "https://localhost:8080/"
    },
    "id": "FpjLYpJ8W9_c",
    "outputId": "c0edbed0-c2b8-4a51-a8dd-8e7592e67108"
   },
   "outputs": [
    {
     "data": {
      "text/plain": [
       "0.2876086361903184"
      ]
     },
     "execution_count": 37,
     "metadata": {
      "tags": []
     },
     "output_type": "execute_result"
    }
   ],
   "source": [
    "nmi= normalized_mutual_info_score(actual_field, pred_field)\n",
    "nmi"
   ]
  },
  {
   "cell_type": "markdown",
   "metadata": {
    "id": "TzyvMc3PGu9e"
   },
   "source": [
    "**Purity score:**"
   ]
  },
  {
   "cell_type": "code",
   "execution_count": null,
   "metadata": {
    "id": "KS2kRFLxaxRu"
   },
   "outputs": [],
   "source": [
    "\n",
    "def purity_score(y_true, y_pred):\n",
    "    # compute contingency matrix (also called confusion matrix)\n",
    "    contingency_matrix = metrics.cluster.contingency_matrix(y_true, y_pred)\n",
    "    # return purity\n",
    "    return np.sum(np.amax(contingency_matrix, axis=0)) / np.sum(contingency_matrix) "
   ]
  },
  {
   "cell_type": "code",
   "execution_count": null,
   "metadata": {
    "colab": {
     "base_uri": "https://localhost:8080/"
    },
    "id": "rITKDtrHa3ez",
    "outputId": "2374ac59-a225-461f-bec3-0fda5652a97b"
   },
   "outputs": [
    {
     "data": {
      "text/plain": [
       "0.5567514677103719"
      ]
     },
     "execution_count": 39,
     "metadata": {
      "tags": []
     },
     "output_type": "execute_result"
    }
   ],
   "source": [
    "purity_score(actual_field, pred_field)"
   ]
  },
  {
   "cell_type": "markdown",
   "metadata": {
    "id": "FoXtGtLPG5fU"
   },
   "source": [
    "**Showing the confusion matrix:**"
   ]
  },
  {
   "cell_type": "code",
   "execution_count": null,
   "metadata": {
    "colab": {
     "base_uri": "https://localhost:8080/"
    },
    "id": "XCUnzQJ9T77E",
    "outputId": "87408728-72f2-4838-9118-46fbdcfe72d7"
   },
   "outputs": [
    {
     "name": "stdout",
     "output_type": "stream",
     "text": [
      "[[360  20 121  16]\n",
      " [ 35 262 184  19]\n",
      " [246   6 188  40]\n",
      " [ 82   0 137 328]]\n"
     ]
    }
   ],
   "source": [
    "from sklearn.metrics import confusion_matrix\n",
    "\n",
    "#Get the confusion matrix\n",
    "cf_matrix = confusion_matrix(actual_field, pred_field)\n",
    "print(cf_matrix)"
   ]
  },
  {
   "cell_type": "code",
   "execution_count": null,
   "metadata": {
    "colab": {
     "base_uri": "https://localhost:8080/",
     "height": 382
    },
    "id": "iIHelGZ3Wkr0",
    "outputId": "e6e2b515-4ed4-4dc8-9dbc-0d20e16c6ff3"
   },
   "outputs": [
    {
     "data": {
      "image/png": "[encoded data removed]",
      "text/plain": [
       "<Figure size 432x288 with 2 Axes>"
      ]
     },
     "metadata": {
      "needs_background": "light",
      "tags": []
     },
     "output_type": "display_data"
    }
   ],
   "source": [
    "import seaborn as sns\n",
    "sns.heatmap(cf_matrix, annot=True, fmt=\"d\")\n",
    "plt.xticks([0.5,1.5,2.5,3.5],labels=['geoscience', 'biology', 'information system', 'math'], rotation=90)\n",
    "plt.yticks([0.5,1.5,2.5,3.5],labels=['geoscience', 'biology', 'information system', 'math'], rotation=0)\n",
    "plt.title('Confusion matrix')\n",
    "plt.xlabel('Actual label')\n",
    "plt.ylabel('Predicted label');"
   ]
  },
  {
   "cell_type": "markdown",
   "metadata": {
    "id": "6KR-BaKfHEzw"
   },
   "source": [
    "# **Practical Part**\n",
    "\n",
    "**TODO Tasks:**\n",
    "\n",
    "\n",
    "1.   In k-means algorithm, change the number of clusters to 10, 15, and 20, then show the clustering figures for each.\n",
    "2.   In this tutorial, we use only title as text that represents papers. Try to combine both title and abstract, will this improve BERT Embedding? you can answer this question by showing BERT embeddings in two dimensions with their corresponding fields. "
   ]
  },
  {
   "cell_type": "markdown",
   "metadata": {
    "id": "m5Ope9bM3OP-"
   },
   "source": [
    "#**Final Task**\n",
    "\n",
    "<img src=\"../figures/day3.png\">"
   ]
  }
 ],
 "metadata": {
  "accelerator": "GPU",
  "colab": {
   "collapsed_sections": [],
   "name": "Day 3 - Part 1: Generating BERT Embedding.ipynb",
   "provenance": []
  },
  "kernelspec": {
   "display_name": "Python 3",
   "language": "python",
   "name": "python3"
  },
  "language_info": {
   "codemirror_mode": {
    "name": "ipython",
    "version": 3
   },
   "file_extension": ".py",
   "mimetype": "text/x-python",
   "name": "python",
   "nbconvert_exporter": "python",
   "pygments_lexer": "ipython3",
   "version": "3.9.5"
  },
  "widgets": {
   "application/vnd.jupyter.widget-state+json": {
    "0b14e2a553744a098b13b89b09e8ab21": {
     "model_module": "@jupyter-widgets/controls",
     "model_name": "ProgressStyleModel",
     "state": {
      "_model_module": "@jupyter-widgets/controls",
      "_model_module_version": "1.5.0",
      "_model_name": "ProgressStyleModel",
      "_view_count": null,
      "_view_module": "@jupyter-widgets/base",
      "_view_module_version": "1.2.0",
      "_view_name": "StyleView",
      "bar_color": null,
      "description_width": "initial"
     }
    },
    "12e9e230a6df416aa30c843be2d3a2c4": {
     "model_module": "@jupyter-widgets/base",
     "model_name": "LayoutModel",
     "state": {
      "_model_module": "@jupyter-widgets/base",
      "_model_module_version": "1.2.0",
      "_model_name": "LayoutModel",
      "_view_count": null,
      "_view_module": "@jupyter-widgets/base",
      "_view_module_version": "1.2.0",
      "_view_name": "LayoutView",
      "align_content": null,
      "align_items": null,
      "align_self": null,
      "border": null,
      "bottom": null,
      "display": null,
      "flex": null,
      "flex_flow": null,
      "grid_area": null,
      "grid_auto_columns": null,
      "grid_auto_flow": null,
      "grid_auto_rows": null,
      "grid_column": null,
      "grid_gap": null,
      "grid_row": null,
      "grid_template_areas": null,
      "grid_template_columns": null,
      "grid_template_rows": null,
      "height": null,
      "justify_content": null,
      "justify_items": null,
      "left": null,
      "margin": null,
      "max_height": null,
      "max_width": null,
      "min_height": null,
      "min_width": null,
      "object_fit": null,
      "object_position": null,
      "order": null,
      "overflow": null,
      "overflow_x": null,
      "overflow_y": null,
      "padding": null,
      "right": null,
      "top": null,
      "visibility": null,
      "width": null
     }
    },
    "1ec18babbb21402cb67ec7c05496f784": {
     "model_module": "@jupyter-widgets/controls",
     "model_name": "HTMLModel",
     "state": {
      "_dom_classes": [],
      "_model_module": "@jupyter-widgets/controls",
      "_model_module_version": "1.5.0",
      "_model_name": "HTMLModel",
      "_view_count": null,
      "_view_module": "@jupyter-widgets/controls",
      "_view_module_version": "1.5.0",
      "_view_name": "HTMLView",
      "description": "",
      "description_tooltip": null,
      "layout": "IPY_MODEL_64e411cf523543029539442260574ab8",
      "placeholder": "​",
      "style": "IPY_MODEL_3775c65b0f734f78ab51ac9a99f51a78",
      "value": " 466k/466k [00:00&lt;00:00, 790kB/s]"
     }
    },
    "31f49e2386884d31b95652ae501340c1": {
     "model_module": "@jupyter-widgets/controls",
     "model_name": "ProgressStyleModel",
     "state": {
      "_model_module": "@jupyter-widgets/controls",
      "_model_module_version": "1.5.0",
      "_model_name": "ProgressStyleModel",
      "_view_count": null,
      "_view_module": "@jupyter-widgets/base",
      "_view_module_version": "1.2.0",
      "_view_name": "StyleView",
      "bar_color": null,
      "description_width": "initial"
     }
    },
    "325f95fba25d4cbda9d038ece2120205": {
     "model_module": "@jupyter-widgets/base",
     "model_name": "LayoutModel",
     "state": {
      "_model_module": "@jupyter-widgets/base",
      "_model_module_version": "1.2.0",
      "_model_name": "LayoutModel",
      "_view_count": null,
      "_view_module": "@jupyter-widgets/base",
      "_view_module_version": "1.2.0",
      "_view_name": "LayoutView",
      "align_content": null,
      "align_items": null,
      "align_self": null,
      "border": null,
      "bottom": null,
      "display": null,
      "flex": null,
      "flex_flow": null,
      "grid_area": null,
      "grid_auto_columns": null,
      "grid_auto_flow": null,
      "grid_auto_rows": null,
      "grid_column": null,
      "grid_gap": null,
      "grid_row": null,
      "grid_template_areas": null,
      "grid_template_columns": null,
      "grid_template_rows": null,
      "height": null,
      "justify_content": null,
      "justify_items": null,
      "left": null,
      "margin": null,
      "max_height": null,
      "max_width": null,
      "min_height": null,
      "min_width": null,
      "object_fit": null,
      "object_position": null,
      "order": null,
      "overflow": null,
      "overflow_x": null,
      "overflow_y": null,
      "padding": null,
      "right": null,
      "top": null,
      "visibility": null,
      "width": null
     }
    },
    "3775c65b0f734f78ab51ac9a99f51a78": {
     "model_module": "@jupyter-widgets/controls",
     "model_name": "DescriptionStyleModel",
     "state": {
      "_model_module": "@jupyter-widgets/controls",
      "_model_module_version": "1.5.0",
      "_model_name": "DescriptionStyleModel",
      "_view_count": null,
      "_view_module": "@jupyter-widgets/base",
      "_view_module_version": "1.2.0",
      "_view_name": "StyleView",
      "description_width": ""
     }
    },
    "4d15432023ea4166bd832c3452d66293": {
     "model_module": "@jupyter-widgets/base",
     "model_name": "LayoutModel",
     "state": {
      "_model_module": "@jupyter-widgets/base",
      "_model_module_version": "1.2.0",
      "_model_name": "LayoutModel",
      "_view_count": null,
      "_view_module": "@jupyter-widgets/base",
      "_view_module_version": "1.2.0",
      "_view_name": "LayoutView",
      "align_content": null,
      "align_items": null,
      "align_self": null,
      "border": null,
      "bottom": null,
      "display": null,
      "flex": null,
      "flex_flow": null,
      "grid_area": null,
      "grid_auto_columns": null,
      "grid_auto_flow": null,
      "grid_auto_rows": null,
      "grid_column": null,
      "grid_gap": null,
      "grid_row": null,
      "grid_template_areas": null,
      "grid_template_columns": null,
      "grid_template_rows": null,
      "height": null,
      "justify_content": null,
      "justify_items": null,
      "left": null,
      "margin": null,
      "max_height": null,
      "max_width": null,
      "min_height": null,
      "min_width": null,
      "object_fit": null,
      "object_position": null,
      "order": null,
      "overflow": null,
      "overflow_x": null,
      "overflow_y": null,
      "padding": null,
      "right": null,
      "top": null,
      "visibility": null,
      "width": null
     }
    },
    "5266e15a2e25484aac8a707168e6172f": {
     "model_module": "@jupyter-widgets/controls",
     "model_name": "HTMLModel",
     "state": {
      "_dom_classes": [],
      "_model_module": "@jupyter-widgets/controls",
      "_model_module_version": "1.5.0",
      "_model_name": "HTMLModel",
      "_view_count": null,
      "_view_module": "@jupyter-widgets/controls",
      "_view_module_version": "1.5.0",
      "_view_name": "HTMLView",
      "description": "",
      "description_tooltip": null,
      "layout": "IPY_MODEL_bf38019f19d34c5d9cca8f076b95ecb7",
      "placeholder": "​",
      "style": "IPY_MODEL_8cc7a52acd374a93941dd6eb063f997c",
      "value": " 268M/268M [00:09&lt;00:00, 28.8MB/s]"
     }
    },
    "5be16671b10c47f0a214ed857fc740ad": {
     "model_module": "@jupyter-widgets/controls",
     "model_name": "FloatProgressModel",
     "state": {
      "_dom_classes": [],
      "_model_module": "@jupyter-widgets/controls",
      "_model_module_version": "1.5.0",
      "_model_name": "FloatProgressModel",
      "_view_count": null,
      "_view_module": "@jupyter-widgets/controls",
      "_view_module_version": "1.5.0",
      "_view_name": "ProgressView",
      "bar_style": "success",
      "description": "Downloading: 100%",
      "description_tooltip": null,
      "layout": "IPY_MODEL_6d0a9a27896d49939b37820491c77a0c",
      "max": 442,
      "min": 0,
      "orientation": "horizontal",
      "style": "IPY_MODEL_ccab676f948f4b37884e02577d71ea5b",
      "value": 442
     }
    },
    "5df16c55232546059d49eba207348616": {
     "model_module": "@jupyter-widgets/controls",
     "model_name": "HBoxModel",
     "state": {
      "_dom_classes": [],
      "_model_module": "@jupyter-widgets/controls",
      "_model_module_version": "1.5.0",
      "_model_name": "HBoxModel",
      "_view_count": null,
      "_view_module": "@jupyter-widgets/controls",
      "_view_module_version": "1.5.0",
      "_view_name": "HBoxView",
      "box_style": "",
      "children": [
       "IPY_MODEL_e06cad43cf014aab8ce42c89506c7ad8",
       "IPY_MODEL_5fcb754f0ff84d268403249de8d84b10"
      ],
      "layout": "IPY_MODEL_12e9e230a6df416aa30c843be2d3a2c4"
     }
    },
    "5fcb754f0ff84d268403249de8d84b10": {
     "model_module": "@jupyter-widgets/controls",
     "model_name": "HTMLModel",
     "state": {
      "_dom_classes": [],
      "_model_module": "@jupyter-widgets/controls",
      "_model_module_version": "1.5.0",
      "_model_name": "HTMLModel",
      "_view_count": null,
      "_view_module": "@jupyter-widgets/controls",
      "_view_module_version": "1.5.0",
      "_view_name": "HTMLView",
      "description": "",
      "description_tooltip": null,
      "layout": "IPY_MODEL_a745dee930d24282924ff0923ffc7572",
      "placeholder": "​",
      "style": "IPY_MODEL_b29ac5ad401c4886ac51134d6b1f2c10",
      "value": " 232k/232k [00:05&lt;00:00, 41.4kB/s]"
     }
    },
    "606a9e56243e4ba6a7e9a9f93545e337": {
     "model_module": "@jupyter-widgets/base",
     "model_name": "LayoutModel",
     "state": {
      "_model_module": "@jupyter-widgets/base",
      "_model_module_version": "1.2.0",
      "_model_name": "LayoutModel",
      "_view_count": null,
      "_view_module": "@jupyter-widgets/base",
      "_view_module_version": "1.2.0",
      "_view_name": "LayoutView",
      "align_content": null,
      "align_items": null,
      "align_self": null,
      "border": null,
      "bottom": null,
      "display": null,
      "flex": null,
      "flex_flow": null,
      "grid_area": null,
      "grid_auto_columns": null,
      "grid_auto_flow": null,
      "grid_auto_rows": null,
      "grid_column": null,
      "grid_gap": null,
      "grid_row": null,
      "grid_template_areas": null,
      "grid_template_columns": null,
      "grid_template_rows": null,
      "height": null,
      "justify_content": null,
      "justify_items": null,
      "left": null,
      "margin": null,
      "max_height": null,
      "max_width": null,
      "min_height": null,
      "min_width": null,
      "object_fit": null,
      "object_position": null,
      "order": null,
      "overflow": null,
      "overflow_x": null,
      "overflow_y": null,
      "padding": null,
      "right": null,
      "top": null,
      "visibility": null,
      "width": null
     }
    },
    "60cf6e106e794c579ce726cf99072e81": {
     "model_module": "@jupyter-widgets/base",
     "model_name": "LayoutModel",
     "state": {
      "_model_module": "@jupyter-widgets/base",
      "_model_module_version": "1.2.0",
      "_model_name": "LayoutModel",
      "_view_count": null,
      "_view_module": "@jupyter-widgets/base",
      "_view_module_version": "1.2.0",
      "_view_name": "LayoutView",
      "align_content": null,
      "align_items": null,
      "align_self": null,
      "border": null,
      "bottom": null,
      "display": null,
      "flex": null,
      "flex_flow": null,
      "grid_area": null,
      "grid_auto_columns": null,
      "grid_auto_flow": null,
      "grid_auto_rows": null,
      "grid_column": null,
      "grid_gap": null,
      "grid_row": null,
      "grid_template_areas": null,
      "grid_template_columns": null,
      "grid_template_rows": null,
      "height": null,
      "justify_content": null,
      "justify_items": null,
      "left": null,
      "margin": null,
      "max_height": null,
      "max_width": null,
      "min_height": null,
      "min_width": null,
      "object_fit": null,
      "object_position": null,
      "order": null,
      "overflow": null,
      "overflow_x": null,
      "overflow_y": null,
      "padding": null,
      "right": null,
      "top": null,
      "visibility": null,
      "width": null
     }
    },
    "64e411cf523543029539442260574ab8": {
     "model_module": "@jupyter-widgets/base",
     "model_name": "LayoutModel",
     "state": {
      "_model_module": "@jupyter-widgets/base",
      "_model_module_version": "1.2.0",
      "_model_name": "LayoutModel",
      "_view_count": null,
      "_view_module": "@jupyter-widgets/base",
      "_view_module_version": "1.2.0",
      "_view_name": "LayoutView",
      "align_content": null,
      "align_items": null,
      "align_self": null,
      "border": null,
      "bottom": null,
      "display": null,
      "flex": null,
      "flex_flow": null,
      "grid_area": null,
      "grid_auto_columns": null,
      "grid_auto_flow": null,
      "grid_auto_rows": null,
      "grid_column": null,
      "grid_gap": null,
      "grid_row": null,
      "grid_template_areas": null,
      "grid_template_columns": null,
      "grid_template_rows": null,
      "height": null,
      "justify_content": null,
      "justify_items": null,
      "left": null,
      "margin": null,
      "max_height": null,
      "max_width": null,
      "min_height": null,
      "min_width": null,
      "object_fit": null,
      "object_position": null,
      "order": null,
      "overflow": null,
      "overflow_x": null,
      "overflow_y": null,
      "padding": null,
      "right": null,
      "top": null,
      "visibility": null,
      "width": null
     }
    },
    "661d4e567da84730b24d22c7469ec237": {
     "model_module": "@jupyter-widgets/base",
     "model_name": "LayoutModel",
     "state": {
      "_model_module": "@jupyter-widgets/base",
      "_model_module_version": "1.2.0",
      "_model_name": "LayoutModel",
      "_view_count": null,
      "_view_module": "@jupyter-widgets/base",
      "_view_module_version": "1.2.0",
      "_view_name": "LayoutView",
      "align_content": null,
      "align_items": null,
      "align_self": null,
      "border": null,
      "bottom": null,
      "display": null,
      "flex": null,
      "flex_flow": null,
      "grid_area": null,
      "grid_auto_columns": null,
      "grid_auto_flow": null,
      "grid_auto_rows": null,
      "grid_column": null,
      "grid_gap": null,
      "grid_row": null,
      "grid_template_areas": null,
      "grid_template_columns": null,
      "grid_template_rows": null,
      "height": null,
      "justify_content": null,
      "justify_items": null,
      "left": null,
      "margin": null,
      "max_height": null,
      "max_width": null,
      "min_height": null,
      "min_width": null,
      "object_fit": null,
      "object_position": null,
      "order": null,
      "overflow": null,
      "overflow_x": null,
      "overflow_y": null,
      "padding": null,
      "right": null,
      "top": null,
      "visibility": null,
      "width": null
     }
    },
    "669d736e331c44129763720aea0c88c9": {
     "model_module": "@jupyter-widgets/controls",
     "model_name": "HTMLModel",
     "state": {
      "_dom_classes": [],
      "_model_module": "@jupyter-widgets/controls",
      "_model_module_version": "1.5.0",
      "_model_name": "HTMLModel",
      "_view_count": null,
      "_view_module": "@jupyter-widgets/controls",
      "_view_module_version": "1.5.0",
      "_view_name": "HTMLView",
      "description": "",
      "description_tooltip": null,
      "layout": "IPY_MODEL_606a9e56243e4ba6a7e9a9f93545e337",
      "placeholder": "​",
      "style": "IPY_MODEL_af8595c8eed24e69b64a2fbb69e89ad2",
      "value": " 442/442 [00:01&lt;00:00, 370B/s]"
     }
    },
    "6d0a9a27896d49939b37820491c77a0c": {
     "model_module": "@jupyter-widgets/base",
     "model_name": "LayoutModel",
     "state": {
      "_model_module": "@jupyter-widgets/base",
      "_model_module_version": "1.2.0",
      "_model_name": "LayoutModel",
      "_view_count": null,
      "_view_module": "@jupyter-widgets/base",
      "_view_module_version": "1.2.0",
      "_view_name": "LayoutView",
      "align_content": null,
      "align_items": null,
      "align_self": null,
      "border": null,
      "bottom": null,
      "display": null,
      "flex": null,
      "flex_flow": null,
      "grid_area": null,
      "grid_auto_columns": null,
      "grid_auto_flow": null,
      "grid_auto_rows": null,
      "grid_column": null,
      "grid_gap": null,
      "grid_row": null,
      "grid_template_areas": null,
      "grid_template_columns": null,
      "grid_template_rows": null,
      "height": null,
      "justify_content": null,
      "justify_items": null,
      "left": null,
      "margin": null,
      "max_height": null,
      "max_width": null,
      "min_height": null,
      "min_width": null,
      "object_fit": null,
      "object_position": null,
      "order": null,
      "overflow": null,
      "overflow_x": null,
      "overflow_y": null,
      "padding": null,
      "right": null,
      "top": null,
      "visibility": null,
      "width": null
     }
    },
    "6fc77f1588ae41b688fd65ad2ab19306": {
     "model_module": "@jupyter-widgets/controls",
     "model_name": "ProgressStyleModel",
     "state": {
      "_model_module": "@jupyter-widgets/controls",
      "_model_module_version": "1.5.0",
      "_model_name": "ProgressStyleModel",
      "_view_count": null,
      "_view_module": "@jupyter-widgets/base",
      "_view_module_version": "1.2.0",
      "_view_name": "StyleView",
      "bar_color": null,
      "description_width": "initial"
     }
    },
    "7066689843c040fdb807c6a211890d0e": {
     "model_module": "@jupyter-widgets/controls",
     "model_name": "HBoxModel",
     "state": {
      "_dom_classes": [],
      "_model_module": "@jupyter-widgets/controls",
      "_model_module_version": "1.5.0",
      "_model_name": "HBoxModel",
      "_view_count": null,
      "_view_module": "@jupyter-widgets/controls",
      "_view_module_version": "1.5.0",
      "_view_name": "HBoxView",
      "box_style": "",
      "children": [
       "IPY_MODEL_728f190dba6d454b9fffd3a21a406fc7",
       "IPY_MODEL_5266e15a2e25484aac8a707168e6172f"
      ],
      "layout": "IPY_MODEL_eb08c4a80ae04bdd8ba3a44cb9ac668e"
     }
    },
    "70b73d22cf3a45519e21f1e3d242517e": {
     "model_module": "@jupyter-widgets/controls",
     "model_name": "DescriptionStyleModel",
     "state": {
      "_model_module": "@jupyter-widgets/controls",
      "_model_module_version": "1.5.0",
      "_model_name": "DescriptionStyleModel",
      "_view_count": null,
      "_view_module": "@jupyter-widgets/base",
      "_view_module_version": "1.2.0",
      "_view_name": "StyleView",
      "description_width": ""
     }
    },
    "728f190dba6d454b9fffd3a21a406fc7": {
     "model_module": "@jupyter-widgets/controls",
     "model_name": "FloatProgressModel",
     "state": {
      "_dom_classes": [],
      "_model_module": "@jupyter-widgets/controls",
      "_model_module_version": "1.5.0",
      "_model_name": "FloatProgressModel",
      "_view_count": null,
      "_view_module": "@jupyter-widgets/controls",
      "_view_module_version": "1.5.0",
      "_view_name": "ProgressView",
      "bar_style": "success",
      "description": "Downloading: 100%",
      "description_tooltip": null,
      "layout": "IPY_MODEL_787a3f100ee449c48e9e5daa11ee36f4",
      "max": 267967963,
      "min": 0,
      "orientation": "horizontal",
      "style": "IPY_MODEL_31f49e2386884d31b95652ae501340c1",
      "value": 267967963
     }
    },
    "776a0c04142d42aead4fbdc19beafb5a": {
     "model_module": "@jupyter-widgets/controls",
     "model_name": "HTMLModel",
     "state": {
      "_dom_classes": [],
      "_model_module": "@jupyter-widgets/controls",
      "_model_module_version": "1.5.0",
      "_model_name": "HTMLModel",
      "_view_count": null,
      "_view_module": "@jupyter-widgets/controls",
      "_view_module_version": "1.5.0",
      "_view_name": "HTMLView",
      "description": "",
      "description_tooltip": null,
      "layout": "IPY_MODEL_661d4e567da84730b24d22c7469ec237",
      "placeholder": "​",
      "style": "IPY_MODEL_70b73d22cf3a45519e21f1e3d242517e",
      "value": " 28.0/28.0 [00:02&lt;00:00, 12.0B/s]"
     }
    },
    "787a3f100ee449c48e9e5daa11ee36f4": {
     "model_module": "@jupyter-widgets/base",
     "model_name": "LayoutModel",
     "state": {
      "_model_module": "@jupyter-widgets/base",
      "_model_module_version": "1.2.0",
      "_model_name": "LayoutModel",
      "_view_count": null,
      "_view_module": "@jupyter-widgets/base",
      "_view_module_version": "1.2.0",
      "_view_name": "LayoutView",
      "align_content": null,
      "align_items": null,
      "align_self": null,
      "border": null,
      "bottom": null,
      "display": null,
      "flex": null,
      "flex_flow": null,
      "grid_area": null,
      "grid_auto_columns": null,
      "grid_auto_flow": null,
      "grid_auto_rows": null,
      "grid_column": null,
      "grid_gap": null,
      "grid_row": null,
      "grid_template_areas": null,
      "grid_template_columns": null,
      "grid_template_rows": null,
      "height": null,
      "justify_content": null,
      "justify_items": null,
      "left": null,
      "margin": null,
      "max_height": null,
      "max_width": null,
      "min_height": null,
      "min_width": null,
      "object_fit": null,
      "object_position": null,
      "order": null,
      "overflow": null,
      "overflow_x": null,
      "overflow_y": null,
      "padding": null,
      "right": null,
      "top": null,
      "visibility": null,
      "width": null
     }
    },
    "83a384a26e454676bced61c44f1c34a2": {
     "model_module": "@jupyter-widgets/controls",
     "model_name": "FloatProgressModel",
     "state": {
      "_dom_classes": [],
      "_model_module": "@jupyter-widgets/controls",
      "_model_module_version": "1.5.0",
      "_model_name": "FloatProgressModel",
      "_view_count": null,
      "_view_module": "@jupyter-widgets/controls",
      "_view_module_version": "1.5.0",
      "_view_name": "ProgressView",
      "bar_style": "success",
      "description": "Downloading: 100%",
      "description_tooltip": null,
      "layout": "IPY_MODEL_ed72e2e0f4164140846af954aaeb9c84",
      "max": 28,
      "min": 0,
      "orientation": "horizontal",
      "style": "IPY_MODEL_0b14e2a553744a098b13b89b09e8ab21",
      "value": 28
     }
    },
    "8cc7a52acd374a93941dd6eb063f997c": {
     "model_module": "@jupyter-widgets/controls",
     "model_name": "DescriptionStyleModel",
     "state": {
      "_model_module": "@jupyter-widgets/controls",
      "_model_module_version": "1.5.0",
      "_model_name": "DescriptionStyleModel",
      "_view_count": null,
      "_view_module": "@jupyter-widgets/base",
      "_view_module_version": "1.2.0",
      "_view_name": "StyleView",
      "description_width": ""
     }
    },
    "a745dee930d24282924ff0923ffc7572": {
     "model_module": "@jupyter-widgets/base",
     "model_name": "LayoutModel",
     "state": {
      "_model_module": "@jupyter-widgets/base",
      "_model_module_version": "1.2.0",
      "_model_name": "LayoutModel",
      "_view_count": null,
      "_view_module": "@jupyter-widgets/base",
      "_view_module_version": "1.2.0",
      "_view_name": "LayoutView",
      "align_content": null,
      "align_items": null,
      "align_self": null,
      "border": null,
      "bottom": null,
      "display": null,
      "flex": null,
      "flex_flow": null,
      "grid_area": null,
      "grid_auto_columns": null,
      "grid_auto_flow": null,
      "grid_auto_rows": null,
      "grid_column": null,
      "grid_gap": null,
      "grid_row": null,
      "grid_template_areas": null,
      "grid_template_columns": null,
      "grid_template_rows": null,
      "height": null,
      "justify_content": null,
      "justify_items": null,
      "left": null,
      "margin": null,
      "max_height": null,
      "max_width": null,
      "min_height": null,
      "min_width": null,
      "object_fit": null,
      "object_position": null,
      "order": null,
      "overflow": null,
      "overflow_x": null,
      "overflow_y": null,
      "padding": null,
      "right": null,
      "top": null,
      "visibility": null,
      "width": null
     }
    },
    "ad0749867138481786191bd094e09ff6": {
     "model_module": "@jupyter-widgets/base",
     "model_name": "LayoutModel",
     "state": {
      "_model_module": "@jupyter-widgets/base",
      "_model_module_version": "1.2.0",
      "_model_name": "LayoutModel",
      "_view_count": null,
      "_view_module": "@jupyter-widgets/base",
      "_view_module_version": "1.2.0",
      "_view_name": "LayoutView",
      "align_content": null,
      "align_items": null,
      "align_self": null,
      "border": null,
      "bottom": null,
      "display": null,
      "flex": null,
      "flex_flow": null,
      "grid_area": null,
      "grid_auto_columns": null,
      "grid_auto_flow": null,
      "grid_auto_rows": null,
      "grid_column": null,
      "grid_gap": null,
      "grid_row": null,
      "grid_template_areas": null,
      "grid_template_columns": null,
      "grid_template_rows": null,
      "height": null,
      "justify_content": null,
      "justify_items": null,
      "left": null,
      "margin": null,
      "max_height": null,
      "max_width": null,
      "min_height": null,
      "min_width": null,
      "object_fit": null,
      "object_position": null,
      "order": null,
      "overflow": null,
      "overflow_x": null,
      "overflow_y": null,
      "padding": null,
      "right": null,
      "top": null,
      "visibility": null,
      "width": null
     }
    },
    "af8595c8eed24e69b64a2fbb69e89ad2": {
     "model_module": "@jupyter-widgets/controls",
     "model_name": "DescriptionStyleModel",
     "state": {
      "_model_module": "@jupyter-widgets/controls",
      "_model_module_version": "1.5.0",
      "_model_name": "DescriptionStyleModel",
      "_view_count": null,
      "_view_module": "@jupyter-widgets/base",
      "_view_module_version": "1.2.0",
      "_view_name": "StyleView",
      "description_width": ""
     }
    },
    "b29ac5ad401c4886ac51134d6b1f2c10": {
     "model_module": "@jupyter-widgets/controls",
     "model_name": "DescriptionStyleModel",
     "state": {
      "_model_module": "@jupyter-widgets/controls",
      "_model_module_version": "1.5.0",
      "_model_name": "DescriptionStyleModel",
      "_view_count": null,
      "_view_module": "@jupyter-widgets/base",
      "_view_module_version": "1.2.0",
      "_view_name": "StyleView",
      "description_width": ""
     }
    },
    "b6d093c5a1f64cd28a857e1a8b96cc47": {
     "model_module": "@jupyter-widgets/controls",
     "model_name": "FloatProgressModel",
     "state": {
      "_dom_classes": [],
      "_model_module": "@jupyter-widgets/controls",
      "_model_module_version": "1.5.0",
      "_model_name": "FloatProgressModel",
      "_view_count": null,
      "_view_module": "@jupyter-widgets/controls",
      "_view_module_version": "1.5.0",
      "_view_name": "ProgressView",
      "bar_style": "success",
      "description": "Downloading: 100%",
      "description_tooltip": null,
      "layout": "IPY_MODEL_4d15432023ea4166bd832c3452d66293",
      "max": 466062,
      "min": 0,
      "orientation": "horizontal",
      "style": "IPY_MODEL_d1d09df2809d47bf92ec6f7b90273d42",
      "value": 466062
     }
    },
    "bf38019f19d34c5d9cca8f076b95ecb7": {
     "model_module": "@jupyter-widgets/base",
     "model_name": "LayoutModel",
     "state": {
      "_model_module": "@jupyter-widgets/base",
      "_model_module_version": "1.2.0",
      "_model_name": "LayoutModel",
      "_view_count": null,
      "_view_module": "@jupyter-widgets/base",
      "_view_module_version": "1.2.0",
      "_view_name": "LayoutView",
      "align_content": null,
      "align_items": null,
      "align_self": null,
      "border": null,
      "bottom": null,
      "display": null,
      "flex": null,
      "flex_flow": null,
      "grid_area": null,
      "grid_auto_columns": null,
      "grid_auto_flow": null,
      "grid_auto_rows": null,
      "grid_column": null,
      "grid_gap": null,
      "grid_row": null,
      "grid_template_areas": null,
      "grid_template_columns": null,
      "grid_template_rows": null,
      "height": null,
      "justify_content": null,
      "justify_items": null,
      "left": null,
      "margin": null,
      "max_height": null,
      "max_width": null,
      "min_height": null,
      "min_width": null,
      "object_fit": null,
      "object_position": null,
      "order": null,
      "overflow": null,
      "overflow_x": null,
      "overflow_y": null,
      "padding": null,
      "right": null,
      "top": null,
      "visibility": null,
      "width": null
     }
    },
    "c71f527e81ca498b8ebd63d57234b5f7": {
     "model_module": "@jupyter-widgets/controls",
     "model_name": "HBoxModel",
     "state": {
      "_dom_classes": [],
      "_model_module": "@jupyter-widgets/controls",
      "_model_module_version": "1.5.0",
      "_model_name": "HBoxModel",
      "_view_count": null,
      "_view_module": "@jupyter-widgets/controls",
      "_view_module_version": "1.5.0",
      "_view_name": "HBoxView",
      "box_style": "",
      "children": [
       "IPY_MODEL_b6d093c5a1f64cd28a857e1a8b96cc47",
       "IPY_MODEL_1ec18babbb21402cb67ec7c05496f784"
      ],
      "layout": "IPY_MODEL_60cf6e106e794c579ce726cf99072e81"
     }
    },
    "ccab676f948f4b37884e02577d71ea5b": {
     "model_module": "@jupyter-widgets/controls",
     "model_name": "ProgressStyleModel",
     "state": {
      "_model_module": "@jupyter-widgets/controls",
      "_model_module_version": "1.5.0",
      "_model_name": "ProgressStyleModel",
      "_view_count": null,
      "_view_module": "@jupyter-widgets/base",
      "_view_module_version": "1.2.0",
      "_view_name": "StyleView",
      "bar_color": null,
      "description_width": "initial"
     }
    },
    "d1d09df2809d47bf92ec6f7b90273d42": {
     "model_module": "@jupyter-widgets/controls",
     "model_name": "ProgressStyleModel",
     "state": {
      "_model_module": "@jupyter-widgets/controls",
      "_model_module_version": "1.5.0",
      "_model_name": "ProgressStyleModel",
      "_view_count": null,
      "_view_module": "@jupyter-widgets/base",
      "_view_module_version": "1.2.0",
      "_view_name": "StyleView",
      "bar_color": null,
      "description_width": "initial"
     }
    },
    "d649a6d356964ab9a3e6021bf8bf154f": {
     "model_module": "@jupyter-widgets/controls",
     "model_name": "HBoxModel",
     "state": {
      "_dom_classes": [],
      "_model_module": "@jupyter-widgets/controls",
      "_model_module_version": "1.5.0",
      "_model_name": "HBoxModel",
      "_view_count": null,
      "_view_module": "@jupyter-widgets/controls",
      "_view_module_version": "1.5.0",
      "_view_name": "HBoxView",
      "box_style": "",
      "children": [
       "IPY_MODEL_5be16671b10c47f0a214ed857fc740ad",
       "IPY_MODEL_669d736e331c44129763720aea0c88c9"
      ],
      "layout": "IPY_MODEL_fb543c06869042798970555bc95cbb8e"
     }
    },
    "e06cad43cf014aab8ce42c89506c7ad8": {
     "model_module": "@jupyter-widgets/controls",
     "model_name": "FloatProgressModel",
     "state": {
      "_dom_classes": [],
      "_model_module": "@jupyter-widgets/controls",
      "_model_module_version": "1.5.0",
      "_model_name": "FloatProgressModel",
      "_view_count": null,
      "_view_module": "@jupyter-widgets/controls",
      "_view_module_version": "1.5.0",
      "_view_name": "ProgressView",
      "bar_style": "success",
      "description": "Downloading: 100%",
      "description_tooltip": null,
      "layout": "IPY_MODEL_325f95fba25d4cbda9d038ece2120205",
      "max": 231508,
      "min": 0,
      "orientation": "horizontal",
      "style": "IPY_MODEL_6fc77f1588ae41b688fd65ad2ab19306",
      "value": 231508
     }
    },
    "eb08c4a80ae04bdd8ba3a44cb9ac668e": {
     "model_module": "@jupyter-widgets/base",
     "model_name": "LayoutModel",
     "state": {
      "_model_module": "@jupyter-widgets/base",
      "_model_module_version": "1.2.0",
      "_model_name": "LayoutModel",
      "_view_count": null,
      "_view_module": "@jupyter-widgets/base",
      "_view_module_version": "1.2.0",
      "_view_name": "LayoutView",
      "align_content": null,
      "align_items": null,
      "align_self": null,
      "border": null,
      "bottom": null,
      "display": null,
      "flex": null,
      "flex_flow": null,
      "grid_area": null,
      "grid_auto_columns": null,
      "grid_auto_flow": null,
      "grid_auto_rows": null,
      "grid_column": null,
      "grid_gap": null,
      "grid_row": null,
      "grid_template_areas": null,
      "grid_template_columns": null,
      "grid_template_rows": null,
      "height": null,
      "justify_content": null,
      "justify_items": null,
      "left": null,
      "margin": null,
      "max_height": null,
      "max_width": null,
      "min_height": null,
      "min_width": null,
      "object_fit": null,
      "object_position": null,
      "order": null,
      "overflow": null,
      "overflow_x": null,
      "overflow_y": null,
      "padding": null,
      "right": null,
      "top": null,
      "visibility": null,
      "width": null
     }
    },
    "ed72e2e0f4164140846af954aaeb9c84": {
     "model_module": "@jupyter-widgets/base",
     "model_name": "LayoutModel",
     "state": {
      "_model_module": "@jupyter-widgets/base",
      "_model_module_version": "1.2.0",
      "_model_name": "LayoutModel",
      "_view_count": null,
      "_view_module": "@jupyter-widgets/base",
      "_view_module_version": "1.2.0",
      "_view_name": "LayoutView",
      "align_content": null,
      "align_items": null,
      "align_self": null,
      "border": null,
      "bottom": null,
      "display": null,
      "flex": null,
      "flex_flow": null,
      "grid_area": null,
      "grid_auto_columns": null,
      "grid_auto_flow": null,
      "grid_auto_rows": null,
      "grid_column": null,
      "grid_gap": null,
      "grid_row": null,
      "grid_template_areas": null,
      "grid_template_columns": null,
      "grid_template_rows": null,
      "height": null,
      "justify_content": null,
      "justify_items": null,
      "left": null,
      "margin": null,
      "max_height": null,
      "max_width": null,
      "min_height": null,
      "min_width": null,
      "object_fit": null,
      "object_position": null,
      "order": null,
      "overflow": null,
      "overflow_x": null,
      "overflow_y": null,
      "padding": null,
      "right": null,
      "top": null,
      "visibility": null,
      "width": null
     }
    },
    "fa7a597a284c42ecb0aa25eb508a453b": {
     "model_module": "@jupyter-widgets/controls",
     "model_name": "HBoxModel",
     "state": {
      "_dom_classes": [],
      "_model_module": "@jupyter-widgets/controls",
      "_model_module_version": "1.5.0",
      "_model_name": "HBoxModel",
      "_view_count": null,
      "_view_module": "@jupyter-widgets/controls",
      "_view_module_version": "1.5.0",
      "_view_name": "HBoxView",
      "box_style": "",
      "children": [
       "IPY_MODEL_83a384a26e454676bced61c44f1c34a2",
       "IPY_MODEL_776a0c04142d42aead4fbdc19beafb5a"
      ],
      "layout": "IPY_MODEL_ad0749867138481786191bd094e09ff6"
     }
    },
    "fb543c06869042798970555bc95cbb8e": {
     "model_module": "@jupyter-widgets/base",
     "model_name": "LayoutModel",
     "state": {
      "_model_module": "@jupyter-widgets/base",
      "_model_module_version": "1.2.0",
      "_model_name": "LayoutModel",
      "_view_count": null,
      "_view_module": "@jupyter-widgets/base",
      "_view_module_version": "1.2.0",
      "_view_name": "LayoutView",
      "align_content": null,
      "align_items": null,
      "align_self": null,
      "border": null,
      "bottom": null,
      "display": null,
      "flex": null,
      "flex_flow": null,
      "grid_area": null,
      "grid_auto_columns": null,
      "grid_auto_flow": null,
      "grid_auto_rows": null,
      "grid_column": null,
      "grid_gap": null,
      "grid_row": null,
      "grid_template_areas": null,
      "grid_template_columns": null,
      "grid_template_rows": null,
      "height": null,
      "justify_content": null,
      "justify_items": null,
      "left": null,
      "margin": null,
      "max_height": null,
      "max_width": null,
      "min_height": null,
      "min_width": null,
      "object_fit": null,
      "object_position": null,
      "order": null,
      "overflow": null,
      "overflow_x": null,
      "overflow_y": null,
      "padding": null,
      "right": null,
      "top": null,
      "visibility": null,
      "width": null
     }
    }
   }
  }
 },
 "nbformat": 4,
 "nbformat_minor": 1
}
